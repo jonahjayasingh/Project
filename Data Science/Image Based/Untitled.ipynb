{
 "cells": [
  {
   "cell_type": "code",
   "execution_count": 1,
   "id": "8ec2416e-aa2b-4603-af37-59c22fcb5215",
   "metadata": {
    "editable": true,
    "slideshow": {
     "slide_type": ""
    },
    "tags": []
   },
   "outputs": [
    {
     "name": "stdout",
     "output_type": "stream",
     "text": [
      "Found classes: ['Acne And Rosacea Photos', 'Malignant', 'Fu Athlete Foot', 'Eczema Photos', 'Fu Ringworm', 'Benign', 'Exanthems And Drug Eruptions', 'Lupus And Other Connective Tissue Diseases', 'Ba Impetigo', 'Bullous Disease Photos', 'Nail Fungus And Other Nail Disease', 'Light Diseases And Disorders Of Pigmentation', 'Atopic Dermatitis Photos', 'Actinic Keratosis Basal Cell Carcinoma And Other Malignant Lesions', 'Melanoma Skin Cancer Nevi And Moles', 'Cellulitis Impetigo And Other Bacterial Infections', 'Hair Loss Photos Alopecia And Other Hair Diseases', 'Herpes Hpv And Other Stds Photos', 'Fu Nail Fungus', 'Ba  Cellulitis']\n",
      "Total classes: 20\n",
      "Class 'Acne And Rosacea Photos' has 6837 images\n",
      "Class 'Malignant' has 6762 images\n",
      "Class 'Fu Athlete Foot' has 8054 images\n",
      "Class 'Eczema Photos' has 6715 images\n",
      "Class 'Fu Ringworm' has 8129 images\n",
      "Class 'Benign' has 6459 images\n",
      "Class 'Exanthems And Drug Eruptions' has 7750 images\n",
      "Class 'Lupus And Other Connective Tissue Diseases' has 7734 images\n",
      "Class 'Ba Impetigo' has 8148 images\n",
      "Class 'Bullous Disease Photos' has 7695 images\n",
      "Class 'Nail Fungus And Other Nail Disease' has 6956 images\n",
      "Class 'Light Diseases And Disorders Of Pigmentation' has 7546 images\n",
      "Class 'Atopic Dermatitis Photos' has 7645 images\n",
      "Class 'Actinic Keratosis Basal Cell Carcinoma And Other Malignant Lesions' has 6821 images\n",
      "Class 'Melanoma Skin Cancer Nevi And Moles' has 7680 images\n",
      "Class 'Cellulitis Impetigo And Other Bacterial Infections' has 7894 images\n",
      "Class 'Hair Loss Photos Alopecia And Other Hair Diseases' has 7955 images\n",
      "Class 'Herpes Hpv And Other Stds Photos' has 7744 images\n",
      "Class 'Fu Nail Fungus' has 8083 images\n",
      "Class 'Ba  Cellulitis' has 8079 images\n"
     ]
    }
   ],
   "source": [
    "import os\n",
    "import glob\n",
    "\n",
    "# Path to your dataset folder\n",
    "# Each class should be in a separate folder inside this directory\n",
    "dataset_path = \"dataset\"\n",
    "\n",
    "# List all subfolders (classes)\n",
    "classes = [d for d in os.listdir(dataset_path) if os.path.isdir(os.path.join(dataset_path, d))]\n",
    "\n",
    "print(\"Found classes:\", classes)\n",
    "print(\"Total classes:\", len(classes))\n",
    "# Count images in each class\n",
    "for cls in classes:\n",
    "    class_path = os.path.join(dataset_path, cls)\n",
    "    # Assuming common image extensions\n",
    "    image_files = glob.glob(os.path.join(class_path, \"*.[pjPJ]*[ngNG]*\"))  # jpg, jpeg, png\n",
    "    print(f\"Class '{cls}' has {len(image_files)} images\")\n"
   ]
  },
  {
   "cell_type": "code",
   "execution_count": 2,
   "id": "10cb9ff1-4eea-436b-a74a-61c0f33dcb17",
   "metadata": {
    "editable": true,
    "slideshow": {
     "slide_type": ""
    },
    "tags": []
   },
   "outputs": [],
   "source": [
    "from tensorflow.keras import mixed_precision\n",
    "mixed_precision.set_global_policy(\"mixed_float16\")"
   ]
  },
  {
   "cell_type": "code",
   "execution_count": 3,
   "id": "1d777748-5af5-44d7-89de-43a2f0e33b60",
   "metadata": {
    "editable": true,
    "slideshow": {
     "slide_type": ""
    },
    "tags": []
   },
   "outputs": [],
   "source": [
    "import os\n",
    "\n",
    "# Suppress TensorFlow Python logs\n",
    "os.environ[\"TF_CPP_MIN_LOG_LEVEL\"] = \"3\"\n",
    "\n",
    "# Suppress ML Compute / Metal debug info\n",
    "os.environ[\"TF_METAL_ENABLE_LOGGING\"] = \"0\"\n",
    "os.environ[\"TF_GPU_THREAD_MODE\"] = \"gpu_private\"\n",
    "\n",
    "import tensorflow as tf\n",
    "tf.debugging.set_log_device_placement(False)\n"
   ]
  },
  {
   "cell_type": "code",
   "execution_count": 4,
   "id": "2586a3af-a221-42f7-955f-b47831b15bd0",
   "metadata": {},
   "outputs": [],
   "source": [
    "import tensorflow as tf\n",
    "from tensorflow import keras\n",
    "from tensorflow.keras import layers\n",
    "import os"
   ]
  },
  {
   "cell_type": "code",
   "execution_count": 5,
   "id": "205d54d5-8cae-4ea5-a838-ad92d8d0bb0c",
   "metadata": {},
   "outputs": [],
   "source": [
    "DATA_ROOT = \"dataset\"   # <-- change to your dataset folder\n",
    "IMG_SIZE = 224\n",
    "BATCH_SIZE = 32\n",
    "EPOCHS = 15\n",
    "VAL_SPLIT = 0.15\n",
    "SEED = 1337"
   ]
  },
  {
   "cell_type": "code",
   "execution_count": 6,
   "id": "d61dd488",
   "metadata": {},
   "outputs": [
    {
     "name": "stdout",
     "output_type": "stream",
     "text": [
      "Found 150686 files belonging to 20 classes.\n",
      "Using 128084 files for training.\n",
      "Found 150686 files belonging to 20 classes.\n",
      "Using 22602 files for validation.\n",
      "Classes: 20\n"
     ]
    }
   ],
   "source": [
    "train_ds = tf.keras.utils.image_dataset_from_directory(\n",
    "    DATA_ROOT,\n",
    "    validation_split=VAL_SPLIT,\n",
    "    subset=\"training\",\n",
    "    seed=SEED,\n",
    "    image_size=(IMG_SIZE, IMG_SIZE),\n",
    "    batch_size=BATCH_SIZE,\n",
    ")\n",
    "\n",
    "val_ds = tf.keras.utils.image_dataset_from_directory(\n",
    "    DATA_ROOT,\n",
    "    validation_split=VAL_SPLIT,\n",
    "    subset=\"validation\",\n",
    "    seed=SEED,\n",
    "    image_size=(IMG_SIZE, IMG_SIZE),\n",
    "    batch_size=BATCH_SIZE,\n",
    ")\n",
    "\n",
    "class_names = train_ds.class_names\n",
    "num_classes = len(class_names)\n",
    "print(f\"Classes: {num_classes}\")"
   ]
  },
  {
   "cell_type": "code",
   "execution_count": 7,
   "id": "52c54e64",
   "metadata": {},
   "outputs": [],
   "source": [
    "AUTOTUNE = tf.data.AUTOTUNE\n",
    "train_ds = train_ds.shuffle(1000).prefetch(buffer_size=AUTOTUNE)\n",
    "val_ds   = val_ds.prefetch(buffer_size=AUTOTUNE)"
   ]
  },
  {
   "cell_type": "code",
   "execution_count": 8,
   "id": "7d04ce41",
   "metadata": {},
   "outputs": [],
   "source": [
    "data_augmentation = keras.Sequential([\n",
    "    layers.RandomFlip(\"horizontal\"),\n",
    "    layers.RandomRotation(0.05),\n",
    "    layers.RandomZoom(0.1),\n",
    "])"
   ]
  },
  {
   "cell_type": "code",
   "execution_count": 9,
   "id": "3c1f005b",
   "metadata": {},
   "outputs": [],
   "source": [
    "base_model = keras.applications.EfficientNetB0(\n",
    "    include_top=False,\n",
    "    weights=\"weights_mobilenet_v3_large_224_1.0_float_no_top_v2.h5\",\n",
    "    input_shape=(IMG_SIZE, IMG_SIZE, 3),\n",
    "    pooling=\"avg\",\n",
    ")"
   ]
  },
  {
   "cell_type": "code",
   "execution_count": 10,
   "id": "467dae15",
   "metadata": {},
   "outputs": [],
   "source": [
    "base_model.trainable = False  # freeze for transfer learning\n",
    "\n",
    "inputs = keras.Input(shape=(IMG_SIZE, IMG_SIZE, 3))\n",
    "x = data_augmentation(inputs)\n",
    "x = keras.applications.efficientnet.preprocess_input(x)\n",
    "x = base_model(x, training=False)\n",
    "x = layers.Dropout(0.3)(x)\n",
    "outputs = layers.Dense(num_classes, activation=\"softmax\")(x)\n"
   ]
  },
  {
   "cell_type": "code",
   "execution_count": 11,
   "id": "67e41afb",
   "metadata": {},
   "outputs": [],
   "source": [
    "model = keras.Model(inputs, outputs)"
   ]
  },
  {
   "cell_type": "code",
   "execution_count": 12,
   "id": "2bbed8a5",
   "metadata": {},
   "outputs": [],
   "source": [
    "model.compile(\n",
    "    optimizer=keras.optimizers.Adam(learning_rate=3e-4),\n",
    "    loss=keras.losses.SparseCategoricalCrossentropy(),\n",
    "    metrics=[\"accuracy\"],\n",
    ")\n"
   ]
  },
  {
   "cell_type": "code",
   "execution_count": 13,
   "id": "de56da41",
   "metadata": {},
   "outputs": [],
   "source": [
    "callbacks = [\n",
    "    keras.callbacks.EarlyStopping(patience=3, restore_best_weights=True),\n",
    "    keras.callbacks.ReduceLROnPlateau(factor=0.5, patience=2),\n",
    "]"
   ]
  },
  {
   "cell_type": "code",
   "execution_count": 14,
   "id": "061c44d5",
   "metadata": {},
   "outputs": [
    {
     "name": "stdout",
     "output_type": "stream",
     "text": [
      "Epoch 1/15\n",
      "\u001b[1m4003/4003\u001b[0m \u001b[32m━━━━━━━━━━━━━━━━━━━━\u001b[0m\u001b[37m\u001b[0m \u001b[1m2459s\u001b[0m 608ms/step - accuracy: 0.5545 - loss: 1.4807 - val_accuracy: 0.6543 - val_loss: 1.1290 - learning_rate: 3.0000e-04\n",
      "Epoch 2/15\n",
      "\u001b[1m4003/4003\u001b[0m \u001b[32m━━━━━━━━━━━━━━━━━━━━\u001b[0m\u001b[37m\u001b[0m \u001b[1m2413s\u001b[0m 597ms/step - accuracy: 0.6361 - loss: 1.1659 - val_accuracy: 0.6763 - val_loss: 1.0278 - learning_rate: 3.0000e-04\n",
      "Epoch 3/15\n",
      "\u001b[1m4003/4003\u001b[0m \u001b[32m━━━━━━━━━━━━━━━━━━━━\u001b[0m\u001b[37m\u001b[0m \u001b[1m2408s\u001b[0m 594ms/step - accuracy: 0.6526 - loss: 1.0976 - val_accuracy: 0.6974 - val_loss: 0.9741 - learning_rate: 3.0000e-04\n",
      "Epoch 4/15\n",
      "\u001b[1m4003/4003\u001b[0m \u001b[32m━━━━━━━━━━━━━━━━━━━━\u001b[0m\u001b[37m\u001b[0m \u001b[1m2396s\u001b[0m 592ms/step - accuracy: 0.6620 - loss: 1.0606 - val_accuracy: 0.7052 - val_loss: 0.9383 - learning_rate: 3.0000e-04\n",
      "Epoch 5/15\n",
      "\u001b[1m4003/4003\u001b[0m \u001b[32m━━━━━━━━━━━━━━━━━━━━\u001b[0m\u001b[37m\u001b[0m \u001b[1m2385s\u001b[0m 589ms/step - accuracy: 0.6650 - loss: 1.0432 - val_accuracy: 0.7103 - val_loss: 0.9169 - learning_rate: 3.0000e-04\n",
      "Epoch 6/15\n",
      "\u001b[1m4003/4003\u001b[0m \u001b[32m━━━━━━━━━━━━━━━━━━━━\u001b[0m\u001b[37m\u001b[0m \u001b[1m2374s\u001b[0m 586ms/step - accuracy: 0.6697 - loss: 1.0279 - val_accuracy: 0.7137 - val_loss: 0.9021 - learning_rate: 3.0000e-04\n",
      "Epoch 7/15\n",
      "\u001b[1m4003/4003\u001b[0m \u001b[32m━━━━━━━━━━━━━━━━━━━━\u001b[0m\u001b[37m\u001b[0m \u001b[1m2387s\u001b[0m 590ms/step - accuracy: 0.6723 - loss: 1.0186 - val_accuracy: 0.7180 - val_loss: 0.8892 - learning_rate: 3.0000e-04\n",
      "Epoch 8/15\n",
      "\u001b[1m4003/4003\u001b[0m \u001b[32m━━━━━━━━━━━━━━━━━━━━\u001b[0m\u001b[37m\u001b[0m \u001b[1m2380s\u001b[0m 588ms/step - accuracy: 0.6746 - loss: 1.0106 - val_accuracy: 0.7184 - val_loss: 0.8822 - learning_rate: 3.0000e-04\n",
      "Epoch 9/15\n",
      "\u001b[1m4003/4003\u001b[0m \u001b[32m━━━━━━━━━━━━━━━━━━━━\u001b[0m\u001b[37m\u001b[0m \u001b[1m2293s\u001b[0m 566ms/step - accuracy: 0.6739 - loss: 1.0057 - val_accuracy: 0.7202 - val_loss: 0.8737 - learning_rate: 3.0000e-04\n",
      "Epoch 10/15\n",
      "\u001b[1m4003/4003\u001b[0m \u001b[32m━━━━━━━━━━━━━━━━━━━━\u001b[0m\u001b[37m\u001b[0m \u001b[1m2020s\u001b[0m 500ms/step - accuracy: 0.6736 - loss: 1.0027 - val_accuracy: 0.7220 - val_loss: 0.8695 - learning_rate: 3.0000e-04\n",
      "Epoch 11/15\n",
      "\u001b[1m4003/4003\u001b[0m \u001b[32m━━━━━━━━━━━━━━━━━━━━\u001b[0m\u001b[37m\u001b[0m \u001b[1m2034s\u001b[0m 502ms/step - accuracy: 0.6756 - loss: 1.0011 - val_accuracy: 0.7252 - val_loss: 0.8592 - learning_rate: 3.0000e-04\n",
      "Epoch 12/15\n",
      "\u001b[1m4003/4003\u001b[0m \u001b[32m━━━━━━━━━━━━━━━━━━━━\u001b[0m\u001b[37m\u001b[0m \u001b[1m2374s\u001b[0m 588ms/step - accuracy: 0.6749 - loss: 1.0002 - val_accuracy: 0.7218 - val_loss: 0.8649 - learning_rate: 3.0000e-04\n",
      "Epoch 13/15\n",
      "\u001b[1m4003/4003\u001b[0m \u001b[32m━━━━━━━━━━━━━━━━━━━━\u001b[0m\u001b[37m\u001b[0m \u001b[1m2349s\u001b[0m 580ms/step - accuracy: 0.6763 - loss: 0.9961 - val_accuracy: 0.7242 - val_loss: 0.8566 - learning_rate: 3.0000e-04\n",
      "Epoch 14/15\n",
      "\u001b[1m4003/4003\u001b[0m \u001b[32m━━━━━━━━━━━━━━━━━━━━\u001b[0m\u001b[37m\u001b[0m \u001b[1m2019s\u001b[0m 500ms/step - accuracy: 0.6782 - loss: 0.9903 - val_accuracy: 0.7270 - val_loss: 0.8534 - learning_rate: 3.0000e-04\n",
      "Epoch 15/15\n",
      "\u001b[1m4003/4003\u001b[0m \u001b[32m━━━━━━━━━━━━━━━━━━━━\u001b[0m\u001b[37m\u001b[0m \u001b[1m2032s\u001b[0m 502ms/step - accuracy: 0.6763 - loss: 0.9932 - val_accuracy: 0.7293 - val_loss: 0.8458 - learning_rate: 3.0000e-04\n"
     ]
    }
   ],
   "source": [
    "history = model.fit(\n",
    "    train_ds,\n",
    "    validation_data=val_ds,\n",
    "    epochs=EPOCHS,\n",
    "    callbacks=callbacks,\n",
    ")"
   ]
  },
  {
   "cell_type": "code",
   "execution_count": 15,
   "id": "58908f6e",
   "metadata": {},
   "outputs": [
    {
     "name": "stdout",
     "output_type": "stream",
     "text": [
      "Epoch 1/5\n",
      "\u001b[1m4003/4003\u001b[0m \u001b[32m━━━━━━━━━━━━━━━━━━━━\u001b[0m\u001b[37m\u001b[0m \u001b[1m15234s\u001b[0m 4s/step - accuracy: 0.5478 - loss: 1.4910 - val_accuracy: 0.6746 - val_loss: 1.0025 - learning_rate: 1.0000e-05\n",
      "Epoch 2/5\n",
      "\u001b[1m4003/4003\u001b[0m \u001b[32m━━━━━━━━━━━━━━━━━━━━\u001b[0m\u001b[37m\u001b[0m \u001b[1m13007s\u001b[0m 3s/step - accuracy: 0.6793 - loss: 0.9879 - val_accuracy: 0.7359 - val_loss: 0.8214 - learning_rate: 1.0000e-05\n",
      "Epoch 3/5\n",
      "\u001b[1m4003/4003\u001b[0m \u001b[32m━━━━━━━━━━━━━━━━━━━━\u001b[0m\u001b[37m\u001b[0m \u001b[1m15136s\u001b[0m 4s/step - accuracy: 0.7356 - loss: 0.8125 - val_accuracy: 0.7744 - val_loss: 0.7046 - learning_rate: 1.0000e-05\n",
      "Epoch 4/5\n",
      "\u001b[1m4003/4003\u001b[0m \u001b[32m━━━━━━━━━━━━━━━━━━━━\u001b[0m\u001b[37m\u001b[0m \u001b[1m18158s\u001b[0m 5s/step - accuracy: 0.7761 - loss: 0.6863 - val_accuracy: 0.7987 - val_loss: 0.6200 - learning_rate: 1.0000e-05\n",
      "Epoch 5/5\n",
      "\u001b[1m4003/4003\u001b[0m \u001b[32m━━━━━━━━━━━━━━━━━━━━\u001b[0m\u001b[37m\u001b[0m \u001b[1m17254s\u001b[0m 4s/step - accuracy: 0.8073 - loss: 0.5867 - val_accuracy: 0.8284 - val_loss: 0.5334 - learning_rate: 1.0000e-05\n"
     ]
    }
   ],
   "source": [
    "base_model.trainable = True\n",
    "model.compile(\n",
    "    optimizer=keras.optimizers.Adam(1e-5),\n",
    "    loss=keras.losses.SparseCategoricalCrossentropy(),\n",
    "    metrics=[\"accuracy\"],\n",
    ")\n",
    "\n",
    "fine_history = model.fit(\n",
    "    train_ds,\n",
    "    validation_data=val_ds,\n",
    "    epochs=5,\n",
    "    callbacks=callbacks,\n",
    ")"
   ]
  },
  {
   "cell_type": "code",
   "execution_count": 16,
   "id": "32b377e2",
   "metadata": {},
   "outputs": [
    {
     "name": "stderr",
     "output_type": "stream",
     "text": [
      "WARNING:absl:You are saving your model as an HDF5 file via `model.save()` or `keras.saving.save_model(model)`. This file format is considered legacy. We recommend using instead the native Keras format, e.g. `model.save('my_model.keras')` or `keras.saving.save_model(model, 'my_model.keras')`. \n"
     ]
    }
   ],
   "source": [
    "model.save(\"skin_disease_model_tf.h5\")\n",
    "model.save(\"skin_disease_model_tf.keras\")"
   ]
  },
  {
   "cell_type": "code",
   "execution_count": 10,
   "id": "48fbbb82",
   "metadata": {},
   "outputs": [
    {
     "name": "stderr",
     "output_type": "stream",
     "text": [
      "2025-08-30 14:01:55.239045: I metal_plugin/src/device/metal_device.cc:1154] Metal device set to: Apple M4\n",
      "2025-08-30 14:01:55.239086: I metal_plugin/src/device/metal_device.cc:296] systemMemory: 16.00 GB\n",
      "2025-08-30 14:01:55.239095: I metal_plugin/src/device/metal_device.cc:313] maxCacheSize: 5.33 GB\n",
      "2025-08-30 14:01:55.239145: I tensorflow/core/common_runtime/pluggable_device/pluggable_device_factory.cc:305] Could not identify NUMA node of platform GPU ID 0, defaulting to 0. Your kernel may not have been built with NUMA support.\n",
      "2025-08-30 14:01:55.239163: I tensorflow/core/common_runtime/pluggable_device/pluggable_device_factory.cc:271] Created TensorFlow device (/job:localhost/replica:0/task:0/device:GPU:0 with 0 MB memory) -> physical PluggableDevice (device: 0, name: METAL, pci bus id: <undefined>)\n",
      "/Volumes/CrucialX9/Project/venv/lib/python3.10/site-packages/keras/src/saving/saving_lib.py:797: UserWarning: Skipping variable loading for optimizer 'rmsprop', because it has 215 variables whereas the saved optimizer has 432 variables. \n",
      "  saveable.load_own_variables(weights_store.get(inner_path))\n"
     ]
    },
    {
     "data": {
      "text/html": [
       "<pre style=\"white-space:pre;overflow-x:auto;line-height:normal;font-family:Menlo,'DejaVu Sans Mono',consolas,'Courier New',monospace\"><span style=\"font-weight: bold\">Model: \"functional_1\"</span>\n",
       "</pre>\n"
      ],
      "text/plain": [
       "\u001b[1mModel: \"functional_1\"\u001b[0m\n"
      ]
     },
     "metadata": {},
     "output_type": "display_data"
    },
    {
     "data": {
      "text/html": [
       "<pre style=\"white-space:pre;overflow-x:auto;line-height:normal;font-family:Menlo,'DejaVu Sans Mono',consolas,'Courier New',monospace\">┏━━━━━━━━━━━━━━━━━━━━━━━━━━━━━━━━━┳━━━━━━━━━━━━━━━━━━━━━━━━┳━━━━━━━━━━━━━━━┓\n",
       "┃<span style=\"font-weight: bold\"> Layer (type)                    </span>┃<span style=\"font-weight: bold\"> Output Shape           </span>┃<span style=\"font-weight: bold\">       Param # </span>┃\n",
       "┡━━━━━━━━━━━━━━━━━━━━━━━━━━━━━━━━━╇━━━━━━━━━━━━━━━━━━━━━━━━╇━━━━━━━━━━━━━━━┩\n",
       "│ input_layer_1 (<span style=\"color: #0087ff; text-decoration-color: #0087ff\">InputLayer</span>)      │ (<span style=\"color: #00d7ff; text-decoration-color: #00d7ff\">None</span>, <span style=\"color: #00af00; text-decoration-color: #00af00\">224</span>, <span style=\"color: #00af00; text-decoration-color: #00af00\">224</span>, <span style=\"color: #00af00; text-decoration-color: #00af00\">3</span>)    │             <span style=\"color: #00af00; text-decoration-color: #00af00\">0</span> │\n",
       "├─────────────────────────────────┼────────────────────────┼───────────────┤\n",
       "│ sequential (<span style=\"color: #0087ff; text-decoration-color: #0087ff\">Sequential</span>)         │ (<span style=\"color: #00d7ff; text-decoration-color: #00d7ff\">None</span>, <span style=\"color: #00af00; text-decoration-color: #00af00\">224</span>, <span style=\"color: #00af00; text-decoration-color: #00af00\">224</span>, <span style=\"color: #00af00; text-decoration-color: #00af00\">3</span>)    │             <span style=\"color: #00af00; text-decoration-color: #00af00\">0</span> │\n",
       "├─────────────────────────────────┼────────────────────────┼───────────────┤\n",
       "│ efficientnetb0 (<span style=\"color: #0087ff; text-decoration-color: #0087ff\">Functional</span>)     │ (<span style=\"color: #00d7ff; text-decoration-color: #00d7ff\">None</span>, <span style=\"color: #00af00; text-decoration-color: #00af00\">1280</span>)           │     <span style=\"color: #00af00; text-decoration-color: #00af00\">4,049,571</span> │\n",
       "├─────────────────────────────────┼────────────────────────┼───────────────┤\n",
       "│ dropout (<span style=\"color: #0087ff; text-decoration-color: #0087ff\">Dropout</span>)               │ (<span style=\"color: #00d7ff; text-decoration-color: #00d7ff\">None</span>, <span style=\"color: #00af00; text-decoration-color: #00af00\">1280</span>)           │             <span style=\"color: #00af00; text-decoration-color: #00af00\">0</span> │\n",
       "├─────────────────────────────────┼────────────────────────┼───────────────┤\n",
       "│ dense (<span style=\"color: #0087ff; text-decoration-color: #0087ff\">Dense</span>)                   │ (<span style=\"color: #00d7ff; text-decoration-color: #00d7ff\">None</span>, <span style=\"color: #00af00; text-decoration-color: #00af00\">20</span>)             │        <span style=\"color: #00af00; text-decoration-color: #00af00\">25,620</span> │\n",
       "└─────────────────────────────────┴────────────────────────┴───────────────┘\n",
       "</pre>\n"
      ],
      "text/plain": [
       "┏━━━━━━━━━━━━━━━━━━━━━━━━━━━━━━━━━┳━━━━━━━━━━━━━━━━━━━━━━━━┳━━━━━━━━━━━━━━━┓\n",
       "┃\u001b[1m \u001b[0m\u001b[1mLayer (type)                   \u001b[0m\u001b[1m \u001b[0m┃\u001b[1m \u001b[0m\u001b[1mOutput Shape          \u001b[0m\u001b[1m \u001b[0m┃\u001b[1m \u001b[0m\u001b[1m      Param #\u001b[0m\u001b[1m \u001b[0m┃\n",
       "┡━━━━━━━━━━━━━━━━━━━━━━━━━━━━━━━━━╇━━━━━━━━━━━━━━━━━━━━━━━━╇━━━━━━━━━━━━━━━┩\n",
       "│ input_layer_1 (\u001b[38;5;33mInputLayer\u001b[0m)      │ (\u001b[38;5;45mNone\u001b[0m, \u001b[38;5;34m224\u001b[0m, \u001b[38;5;34m224\u001b[0m, \u001b[38;5;34m3\u001b[0m)    │             \u001b[38;5;34m0\u001b[0m │\n",
       "├─────────────────────────────────┼────────────────────────┼───────────────┤\n",
       "│ sequential (\u001b[38;5;33mSequential\u001b[0m)         │ (\u001b[38;5;45mNone\u001b[0m, \u001b[38;5;34m224\u001b[0m, \u001b[38;5;34m224\u001b[0m, \u001b[38;5;34m3\u001b[0m)    │             \u001b[38;5;34m0\u001b[0m │\n",
       "├─────────────────────────────────┼────────────────────────┼───────────────┤\n",
       "│ efficientnetb0 (\u001b[38;5;33mFunctional\u001b[0m)     │ (\u001b[38;5;45mNone\u001b[0m, \u001b[38;5;34m1280\u001b[0m)           │     \u001b[38;5;34m4,049,571\u001b[0m │\n",
       "├─────────────────────────────────┼────────────────────────┼───────────────┤\n",
       "│ dropout (\u001b[38;5;33mDropout\u001b[0m)               │ (\u001b[38;5;45mNone\u001b[0m, \u001b[38;5;34m1280\u001b[0m)           │             \u001b[38;5;34m0\u001b[0m │\n",
       "├─────────────────────────────────┼────────────────────────┼───────────────┤\n",
       "│ dense (\u001b[38;5;33mDense\u001b[0m)                   │ (\u001b[38;5;45mNone\u001b[0m, \u001b[38;5;34m20\u001b[0m)             │        \u001b[38;5;34m25,620\u001b[0m │\n",
       "└─────────────────────────────────┴────────────────────────┴───────────────┘\n"
      ]
     },
     "metadata": {},
     "output_type": "display_data"
    },
    {
     "data": {
      "text/html": [
       "<pre style=\"white-space:pre;overflow-x:auto;line-height:normal;font-family:Menlo,'DejaVu Sans Mono',consolas,'Courier New',monospace\"><span style=\"font-weight: bold\"> Total params: </span><span style=\"color: #00af00; text-decoration-color: #00af00\">8,108,361</span> (30.93 MB)\n",
       "</pre>\n"
      ],
      "text/plain": [
       "\u001b[1m Total params: \u001b[0m\u001b[38;5;34m8,108,361\u001b[0m (30.93 MB)\n"
      ]
     },
     "metadata": {},
     "output_type": "display_data"
    },
    {
     "data": {
      "text/html": [
       "<pre style=\"white-space:pre;overflow-x:auto;line-height:normal;font-family:Menlo,'DejaVu Sans Mono',consolas,'Courier New',monospace\"><span style=\"font-weight: bold\"> Trainable params: </span><span style=\"color: #00af00; text-decoration-color: #00af00\">4,033,168</span> (15.39 MB)\n",
       "</pre>\n"
      ],
      "text/plain": [
       "\u001b[1m Trainable params: \u001b[0m\u001b[38;5;34m4,033,168\u001b[0m (15.39 MB)\n"
      ]
     },
     "metadata": {},
     "output_type": "display_data"
    },
    {
     "data": {
      "text/html": [
       "<pre style=\"white-space:pre;overflow-x:auto;line-height:normal;font-family:Menlo,'DejaVu Sans Mono',consolas,'Courier New',monospace\"><span style=\"font-weight: bold\"> Non-trainable params: </span><span style=\"color: #00af00; text-decoration-color: #00af00\">42,023</span> (164.16 KB)\n",
       "</pre>\n"
      ],
      "text/plain": [
       "\u001b[1m Non-trainable params: \u001b[0m\u001b[38;5;34m42,023\u001b[0m (164.16 KB)\n"
      ]
     },
     "metadata": {},
     "output_type": "display_data"
    },
    {
     "data": {
      "text/html": [
       "<pre style=\"white-space:pre;overflow-x:auto;line-height:normal;font-family:Menlo,'DejaVu Sans Mono',consolas,'Courier New',monospace\"><span style=\"font-weight: bold\"> Optimizer params: </span><span style=\"color: #00af00; text-decoration-color: #00af00\">4,033,170</span> (15.39 MB)\n",
       "</pre>\n"
      ],
      "text/plain": [
       "\u001b[1m Optimizer params: \u001b[0m\u001b[38;5;34m4,033,170\u001b[0m (15.39 MB)\n"
      ]
     },
     "metadata": {},
     "output_type": "display_data"
    }
   ],
   "source": [
    "import tensorflow as tf\n",
    "from tensorflow.keras.models import load_model\n",
    "\n",
    "# Load your model\n",
    "model = load_model('skin_disease_model_tf.keras')\n",
    "\n",
    "# Check the model summary to ensure it's loaded correctly\n",
    "model.summary()\n"
   ]
  },
  {
   "cell_type": "code",
   "execution_count": 12,
   "id": "3caf0a4e",
   "metadata": {},
   "outputs": [
    {
     "name": "stderr",
     "output_type": "stream",
     "text": [
      "2025-08-30 14:02:18.671879: I tensorflow/core/grappler/optimizers/custom_graph_optimizer_registry.cc:117] Plugin optimizer for device_type GPU is enabled.\n"
     ]
    },
    {
     "name": "stdout",
     "output_type": "stream",
     "text": [
      "\u001b[1m1/1\u001b[0m \u001b[32m━━━━━━━━━━━━━━━━━━━━\u001b[0m\u001b[37m\u001b[0m \u001b[1m6s\u001b[0m 6s/step\n",
      "Prediction: Eczema Photos (100.00%)\n"
     ]
    }
   ],
   "source": [
    "import numpy as np\n",
    "from tensorflow.keras.utils import load_img, img_to_array\n",
    "\n",
    "def predict_image(path):\n",
    "    img = load_img(path, target_size=(224, 224))\n",
    "    img_array = img_to_array(img)\n",
    "    img_array = np.expand_dims(img_array, axis=0)  # batch dimension\n",
    "    img_array = keras.applications.efficientnet.preprocess_input(img_array)\n",
    "\n",
    "    preds = model.predict(img_array)\n",
    "    predicted_class = class_names[np.argmax(preds)]\n",
    "    confidence = np.max(preds)\n",
    "    print(f\"Prediction: {predicted_class} ({confidence*100:.2f}%)\")\n",
    "\n",
    "predict_image(\"dataset/Ba  Cellulitis/aug_0_BA- cellulitis (96).jpg\")\n"
   ]
  },
  {
   "cell_type": "code",
   "execution_count": 34,
   "id": "4cd860b9",
   "metadata": {},
   "outputs": [
    {
     "data": {
      "text/html": [
       "<div>\n",
       "<style scoped>\n",
       "    .dataframe tbody tr th:only-of-type {\n",
       "        vertical-align: middle;\n",
       "    }\n",
       "\n",
       "    .dataframe tbody tr th {\n",
       "        vertical-align: top;\n",
       "    }\n",
       "\n",
       "    .dataframe thead th {\n",
       "        text-align: right;\n",
       "    }\n",
       "</style>\n",
       "<table border=\"1\" class=\"dataframe\">\n",
       "  <thead>\n",
       "    <tr style=\"text-align: right;\">\n",
       "      <th></th>\n",
       "      <th>Folder_Name</th>\n",
       "      <th>Predicted_Class</th>\n",
       "      <th>Confidence</th>\n",
       "      <th>File</th>\n",
       "    </tr>\n",
       "  </thead>\n",
       "  <tbody>\n",
       "    <tr>\n",
       "      <th>0</th>\n",
       "      <td>Acne And Rosacea Photos</td>\n",
       "      <td>Acne And Rosacea Photos</td>\n",
       "      <td>0.846680</td>\n",
       "      <td>aug_2786_acne-open-comedo-37.jpg</td>\n",
       "    </tr>\n",
       "    <tr>\n",
       "      <th>1</th>\n",
       "      <td>Acne And Rosacea Photos</td>\n",
       "      <td>Lupus And Other Connective Tissue Diseases</td>\n",
       "      <td>0.245117</td>\n",
       "      <td>aug_2185_acne-excoriated-16.jpg</td>\n",
       "    </tr>\n",
       "    <tr>\n",
       "      <th>2</th>\n",
       "      <td>Acne And Rosacea Photos</td>\n",
       "      <td>Acne And Rosacea Photos</td>\n",
       "      <td>0.881836</td>\n",
       "      <td>acne-closed-comedo-14.jpg</td>\n",
       "    </tr>\n",
       "    <tr>\n",
       "      <th>3</th>\n",
       "      <td>Acne And Rosacea Photos</td>\n",
       "      <td>Acne And Rosacea Photos</td>\n",
       "      <td>0.240112</td>\n",
       "      <td>aug_5059_rosacea-40.jpg</td>\n",
       "    </tr>\n",
       "    <tr>\n",
       "      <th>4</th>\n",
       "      <td>Acne And Rosacea Photos</td>\n",
       "      <td>Fu Athlete Foot</td>\n",
       "      <td>0.292480</td>\n",
       "      <td>aug_1640_Sebaceous-glands-Areola-1.jpg</td>\n",
       "    </tr>\n",
       "    <tr>\n",
       "      <th>...</th>\n",
       "      <td>...</td>\n",
       "      <td>...</td>\n",
       "      <td>...</td>\n",
       "      <td>...</td>\n",
       "    </tr>\n",
       "    <tr>\n",
       "      <th>795</th>\n",
       "      <td>Ba  Cellulitis</td>\n",
       "      <td>Eczema Photos</td>\n",
       "      <td>1.000000</td>\n",
       "      <td>aug_5075_BA- cellulitis (1).jpg</td>\n",
       "    </tr>\n",
       "    <tr>\n",
       "      <th>796</th>\n",
       "      <td>Ba  Cellulitis</td>\n",
       "      <td>Eczema Photos</td>\n",
       "      <td>1.000000</td>\n",
       "      <td>aug_3107_BA- cellulitis (68).jpg</td>\n",
       "    </tr>\n",
       "    <tr>\n",
       "      <th>797</th>\n",
       "      <td>Ba  Cellulitis</td>\n",
       "      <td>Eczema Photos</td>\n",
       "      <td>0.997070</td>\n",
       "      <td>aug_409_BA- cellulitis (105).jpg</td>\n",
       "    </tr>\n",
       "    <tr>\n",
       "      <th>798</th>\n",
       "      <td>Ba  Cellulitis</td>\n",
       "      <td>Eczema Photos</td>\n",
       "      <td>1.000000</td>\n",
       "      <td>aug_257_BA- cellulitis (65).jpg</td>\n",
       "    </tr>\n",
       "    <tr>\n",
       "      <th>799</th>\n",
       "      <td>Ba  Cellulitis</td>\n",
       "      <td>Eczema Photos</td>\n",
       "      <td>1.000000</td>\n",
       "      <td>aug_5663_BA- cellulitis (3).png</td>\n",
       "    </tr>\n",
       "  </tbody>\n",
       "</table>\n",
       "<p>800 rows × 4 columns</p>\n",
       "</div>"
      ],
      "text/plain": [
       "                 Folder_Name                             Predicted_Class  \\\n",
       "0    Acne And Rosacea Photos                     Acne And Rosacea Photos   \n",
       "1    Acne And Rosacea Photos  Lupus And Other Connective Tissue Diseases   \n",
       "2    Acne And Rosacea Photos                     Acne And Rosacea Photos   \n",
       "3    Acne And Rosacea Photos                     Acne And Rosacea Photos   \n",
       "4    Acne And Rosacea Photos                             Fu Athlete Foot   \n",
       "..                       ...                                         ...   \n",
       "795           Ba  Cellulitis                               Eczema Photos   \n",
       "796           Ba  Cellulitis                               Eczema Photos   \n",
       "797           Ba  Cellulitis                               Eczema Photos   \n",
       "798           Ba  Cellulitis                               Eczema Photos   \n",
       "799           Ba  Cellulitis                               Eczema Photos   \n",
       "\n",
       "     Confidence                                    File  \n",
       "0      0.846680        aug_2786_acne-open-comedo-37.jpg  \n",
       "1      0.245117         aug_2185_acne-excoriated-16.jpg  \n",
       "2      0.881836               acne-closed-comedo-14.jpg  \n",
       "3      0.240112                 aug_5059_rosacea-40.jpg  \n",
       "4      0.292480  aug_1640_Sebaceous-glands-Areola-1.jpg  \n",
       "..          ...                                     ...  \n",
       "795    1.000000         aug_5075_BA- cellulitis (1).jpg  \n",
       "796    1.000000        aug_3107_BA- cellulitis (68).jpg  \n",
       "797    0.997070        aug_409_BA- cellulitis (105).jpg  \n",
       "798    1.000000         aug_257_BA- cellulitis (65).jpg  \n",
       "799    1.000000         aug_5663_BA- cellulitis (3).png  \n",
       "\n",
       "[800 rows x 4 columns]"
      ]
     },
     "execution_count": 34,
     "metadata": {},
     "output_type": "execute_result"
    }
   ],
   "source": [
    "import os\n",
    "import random\n",
    "import numpy as np\n",
    "import pandas as pd\n",
    "from tensorflow.keras.utils import load_img, img_to_array\n",
    "import keras  # make sure keras or tensorflow.keras is imported\n",
    "\n",
    "DATA_ROOT = \"dataset\"   # your dataset root\n",
    "N_SAMPLES_PER_FOLDER = 40\n",
    "IMG_SIZE = 224  # set your image size\n",
    "class_names = ['Acne And Rosacea Photos', 'Malignant', 'Fu Athlete Foot', 'Eczema Photos', 'Fu Ringworm', 'Benign', 'Exanthems And Drug Eruptions', 'Lupus And Other Connective Tissue Diseases', 'Ba Impetigo', 'Bullous Disease Photos', 'Nail Fungus And Other Nail Disease', 'Light Diseases And Disorders Of Pigmentation', 'Atopic Dermatitis Photos', 'Actinic Keratosis Basal Cell Carcinoma And Other Malignant Lesions', 'Melanoma Skin Cancer Nevi And Moles', 'Cellulitis Impetigo And Other Bacterial Infections', 'Hair Loss Photos Alopecia And Other Hair Diseases', 'Herpes Hpv And Other Stds Photos', 'Fu Nail Fungus', 'Ba  Cellulitis']\n",
    "\n",
    "# model = ...  # load your trained model here\n",
    "\n",
    "# Collect all (folder_name, file_path) pairs per folder\n",
    "sampled = []\n",
    "for folder_name in os.listdir(DATA_ROOT):\n",
    "    folder_path = os.path.join(DATA_ROOT, folder_name)\n",
    "    if os.path.isdir(folder_path):\n",
    "        files = [os.path.join(folder_path, f) for f in os.listdir(folder_path)\n",
    "                 if f.lower().endswith(('.jpg', '.jpeg', '.png'))]\n",
    "        # Randomly pick N_SAMPLES_PER_FOLDER images from this folder\n",
    "        sampled_files = random.sample(files, min(N_SAMPLES_PER_FOLDER, len(files)))\n",
    "        for f in sampled_files:\n",
    "            sampled.append((folder_name, f))\n",
    "\n",
    "# Prediction function\n",
    "def predict_image(path):\n",
    "    img = load_img(path, target_size=(IMG_SIZE, IMG_SIZE))\n",
    "    img_array = img_to_array(img)\n",
    "    img_array = np.expand_dims(img_array, axis=0)\n",
    "    img_array = keras.applications.efficientnet.preprocess_input(img_array)\n",
    "    preds = model.predict(img_array, verbose=0)\n",
    "    pred_class = class_names[np.argmax(preds)]\n",
    "    confidence = float(np.max(preds))\n",
    "    return pred_class, confidence\n",
    "\n",
    "# Run predictions\n",
    "results = []\n",
    "for folder_name, filepath in sampled:\n",
    "    pred_class, conf = predict_image(filepath)\n",
    "    results.append({\n",
    "        \"Folder_Name\": folder_name,       # true class (folder)\n",
    "        \"Predicted_Class\": pred_class,    # model output\n",
    "        \"Confidence\": conf,\n",
    "        \"File\": os.path.basename(filepath)\n",
    "    })\n",
    "\n",
    "# Convert to DataFrame\n",
    "df_results = pd.DataFrame(results)\n",
    "df_results\n",
    "\n",
    "# Optional: Save to CSV\n",
    "# df_results.to_csv(\"sample_predictions.csv\", index=False)\n"
   ]
  },
  {
   "cell_type": "code",
   "execution_count": 39,
   "id": "28385df7",
   "metadata": {},
   "outputs": [
    {
     "data": {
      "image/png": "[encoded data removed]",
      "text/plain": [
       "<Figure size 600x600 with 1 Axes>"
      ]
     },
     "metadata": {},
     "output_type": "display_data"
    }
   ],
   "source": [
    "import pandas as pd\n",
    "import matplotlib.pyplot as plt\n",
    "\n",
    "\n",
    "\n",
    "# Create a column for correct/incorrect\n",
    "df_results['Result'] = df_results.apply(\n",
    "    lambda x: 'Correct' if x['Folder_Name'].lower() == x['Predicted_Class'].lower() else 'Wrong', axis=1\n",
    ")\n",
    "\n",
    "# Count correct and wrong predictions\n",
    "counts = df_results['Result'].value_counts()\n",
    "\n",
    "# Pie chart\n",
    "plt.figure(figsize=(6,6))\n",
    "plt.pie(counts, labels=counts.index, autopct='%1.1f%%', colors=['green','red'], startangle=90, explode=[0.05, 0.05])\n",
    "plt.title('Prediction Correctness')\n",
    "plt.show()\n"
   ]
  },
  {
   "cell_type": "code",
   "execution_count": 40,
   "id": "40d6493e",
   "metadata": {},
   "outputs": [
    {
     "data": {
      "text/plain": [
       "Confidence\n",
       "1.0    330\n",
       "0.9    115\n",
       "0.8     69\n",
       "0.6     60\n",
       "0.7     55\n",
       "0.5     30\n",
       "Name: count, dtype: int64"
      ]
     },
     "execution_count": 40,
     "metadata": {},
     "output_type": "execute_result"
    }
   ],
   "source": [
    "round(df_results[df_results[\"Confidence\"] >.5][\"Confidence\"],1).value_counts()"
   ]
  },
  {
   "cell_type": "code",
   "execution_count": 41,
   "id": "278912a7",
   "metadata": {},
   "outputs": [
    {
     "data": {
      "text/html": [
       "<div>\n",
       "<style scoped>\n",
       "    .dataframe tbody tr th:only-of-type {\n",
       "        vertical-align: middle;\n",
       "    }\n",
       "\n",
       "    .dataframe tbody tr th {\n",
       "        vertical-align: top;\n",
       "    }\n",
       "\n",
       "    .dataframe thead th {\n",
       "        text-align: right;\n",
       "    }\n",
       "</style>\n",
       "<table border=\"1\" class=\"dataframe\">\n",
       "  <thead>\n",
       "    <tr style=\"text-align: right;\">\n",
       "      <th></th>\n",
       "      <th>Folder_Name</th>\n",
       "      <th>Predicted_Class</th>\n",
       "      <th>Confidence</th>\n",
       "      <th>File</th>\n",
       "      <th>Result</th>\n",
       "    </tr>\n",
       "  </thead>\n",
       "  <tbody>\n",
       "    <tr>\n",
       "      <th>0</th>\n",
       "      <td>Acne And Rosacea Photos</td>\n",
       "      <td>Acne And Rosacea Photos</td>\n",
       "      <td>0.846680</td>\n",
       "      <td>aug_2786_acne-open-comedo-37.jpg</td>\n",
       "      <td>Correct</td>\n",
       "    </tr>\n",
       "    <tr>\n",
       "      <th>1</th>\n",
       "      <td>Acne And Rosacea Photos</td>\n",
       "      <td>Lupus And Other Connective Tissue Diseases</td>\n",
       "      <td>0.245117</td>\n",
       "      <td>aug_2185_acne-excoriated-16.jpg</td>\n",
       "      <td>Wrong</td>\n",
       "    </tr>\n",
       "    <tr>\n",
       "      <th>2</th>\n",
       "      <td>Acne And Rosacea Photos</td>\n",
       "      <td>Acne And Rosacea Photos</td>\n",
       "      <td>0.881836</td>\n",
       "      <td>acne-closed-comedo-14.jpg</td>\n",
       "      <td>Correct</td>\n",
       "    </tr>\n",
       "    <tr>\n",
       "      <th>3</th>\n",
       "      <td>Acne And Rosacea Photos</td>\n",
       "      <td>Acne And Rosacea Photos</td>\n",
       "      <td>0.240112</td>\n",
       "      <td>aug_5059_rosacea-40.jpg</td>\n",
       "      <td>Correct</td>\n",
       "    </tr>\n",
       "    <tr>\n",
       "      <th>4</th>\n",
       "      <td>Acne And Rosacea Photos</td>\n",
       "      <td>Fu Athlete Foot</td>\n",
       "      <td>0.292480</td>\n",
       "      <td>aug_1640_Sebaceous-glands-Areola-1.jpg</td>\n",
       "      <td>Wrong</td>\n",
       "    </tr>\n",
       "    <tr>\n",
       "      <th>...</th>\n",
       "      <td>...</td>\n",
       "      <td>...</td>\n",
       "      <td>...</td>\n",
       "      <td>...</td>\n",
       "      <td>...</td>\n",
       "    </tr>\n",
       "    <tr>\n",
       "      <th>795</th>\n",
       "      <td>Ba  Cellulitis</td>\n",
       "      <td>Eczema Photos</td>\n",
       "      <td>1.000000</td>\n",
       "      <td>aug_5075_BA- cellulitis (1).jpg</td>\n",
       "      <td>Wrong</td>\n",
       "    </tr>\n",
       "    <tr>\n",
       "      <th>796</th>\n",
       "      <td>Ba  Cellulitis</td>\n",
       "      <td>Eczema Photos</td>\n",
       "      <td>1.000000</td>\n",
       "      <td>aug_3107_BA- cellulitis (68).jpg</td>\n",
       "      <td>Wrong</td>\n",
       "    </tr>\n",
       "    <tr>\n",
       "      <th>797</th>\n",
       "      <td>Ba  Cellulitis</td>\n",
       "      <td>Eczema Photos</td>\n",
       "      <td>0.997070</td>\n",
       "      <td>aug_409_BA- cellulitis (105).jpg</td>\n",
       "      <td>Wrong</td>\n",
       "    </tr>\n",
       "    <tr>\n",
       "      <th>798</th>\n",
       "      <td>Ba  Cellulitis</td>\n",
       "      <td>Eczema Photos</td>\n",
       "      <td>1.000000</td>\n",
       "      <td>aug_257_BA- cellulitis (65).jpg</td>\n",
       "      <td>Wrong</td>\n",
       "    </tr>\n",
       "    <tr>\n",
       "      <th>799</th>\n",
       "      <td>Ba  Cellulitis</td>\n",
       "      <td>Eczema Photos</td>\n",
       "      <td>1.000000</td>\n",
       "      <td>aug_5663_BA- cellulitis (3).png</td>\n",
       "      <td>Wrong</td>\n",
       "    </tr>\n",
       "  </tbody>\n",
       "</table>\n",
       "<p>800 rows × 5 columns</p>\n",
       "</div>"
      ],
      "text/plain": [
       "                 Folder_Name                             Predicted_Class  \\\n",
       "0    Acne And Rosacea Photos                     Acne And Rosacea Photos   \n",
       "1    Acne And Rosacea Photos  Lupus And Other Connective Tissue Diseases   \n",
       "2    Acne And Rosacea Photos                     Acne And Rosacea Photos   \n",
       "3    Acne And Rosacea Photos                     Acne And Rosacea Photos   \n",
       "4    Acne And Rosacea Photos                             Fu Athlete Foot   \n",
       "..                       ...                                         ...   \n",
       "795           Ba  Cellulitis                               Eczema Photos   \n",
       "796           Ba  Cellulitis                               Eczema Photos   \n",
       "797           Ba  Cellulitis                               Eczema Photos   \n",
       "798           Ba  Cellulitis                               Eczema Photos   \n",
       "799           Ba  Cellulitis                               Eczema Photos   \n",
       "\n",
       "     Confidence                                    File   Result  \n",
       "0      0.846680        aug_2786_acne-open-comedo-37.jpg  Correct  \n",
       "1      0.245117         aug_2185_acne-excoriated-16.jpg    Wrong  \n",
       "2      0.881836               acne-closed-comedo-14.jpg  Correct  \n",
       "3      0.240112                 aug_5059_rosacea-40.jpg  Correct  \n",
       "4      0.292480  aug_1640_Sebaceous-glands-Areola-1.jpg    Wrong  \n",
       "..          ...                                     ...      ...  \n",
       "795    1.000000         aug_5075_BA- cellulitis (1).jpg    Wrong  \n",
       "796    1.000000        aug_3107_BA- cellulitis (68).jpg    Wrong  \n",
       "797    0.997070        aug_409_BA- cellulitis (105).jpg    Wrong  \n",
       "798    1.000000         aug_257_BA- cellulitis (65).jpg    Wrong  \n",
       "799    1.000000         aug_5663_BA- cellulitis (3).png    Wrong  \n",
       "\n",
       "[800 rows x 5 columns]"
      ]
     },
     "execution_count": 41,
     "metadata": {},
     "output_type": "execute_result"
    }
   ],
   "source": [
    "df_results"
   ]
  },
  {
   "cell_type": "code",
   "execution_count": 43,
   "id": "b0846f51",
   "metadata": {},
   "outputs": [
    {
     "data": {
      "text/plain": [
       "143"
      ]
     },
     "execution_count": 43,
     "metadata": {},
     "output_type": "execute_result"
    }
   ],
   "source": [
    "df_results[(df_results[\"Result\"] == \"Wrong\") & (df_results[\"Confidence\"] == 1.0)][\"Folder_Name\"].count()\n",
    "\n"
   ]
  }
 ],
 "metadata": {
  "kernelspec": {
   "display_name": "venv",
   "language": "python",
   "name": "python3"
  },
  "language_info": {
   "codemirror_mode": {
    "name": "ipython",
    "version": 3
   },
   "file_extension": ".py",
   "mimetype": "text/x-python",
   "name": "python",
   "nbconvert_exporter": "python",
   "pygments_lexer": "ipython3",
   "version": "3.10.0"
  }
 },
 "nbformat": 4,
 "nbformat_minor": 5
}
