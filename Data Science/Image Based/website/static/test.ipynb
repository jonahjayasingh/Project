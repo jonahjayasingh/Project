{
 "cells": [
  {
   "cell_type": "code",
   "execution_count": 7,
   "id": "126a3ff8",
   "metadata": {},
   "outputs": [],
   "source": [
    "import tensorflow as tf\n",
    "from tensorflow.keras.models import load_model\n",
    "from tensorflow.keras.applications.mobilenet_v3 import preprocess_input\n",
    "import numpy as np\n",
    "from tensorflow.keras.preprocessing import image\n",
    "import os\n"
   ]
  },
  {
   "cell_type": "code",
   "execution_count": 8,
   "id": "232502d6",
   "metadata": {},
   "outputs": [
    {
     "name": "stdout",
     "output_type": "stream",
     "text": [
      "✅ Model loaded successfully\n"
     ]
    }
   ],
   "source": [
    "from tensorflow.keras.models import load_model\n",
    "\n",
    "model = load_model(r\"tf_model.keras\")\n",
    "print(\"✅ Model loaded successfully\")\n"
   ]
  },
  {
   "cell_type": "code",
   "execution_count": 9,
   "id": "826ba3d9",
   "metadata": {},
   "outputs": [],
   "source": [
    "\n",
    "# ============================\n",
    "# 2. Load & preprocess an image\n",
    "# ============================\n",
    "def load_and_preprocess(img_path, target_size=(128,128)):\n",
    "    img = image.load_img(img_path, target_size=target_size)\n",
    "    x = image.img_to_array(img)          # Convert to array\n",
    "    x = np.expand_dims(x, axis=0)        # Add batch dimension\n",
    "    x = preprocess_input(x)              # Apply MobileNetV3 preprocessing\n",
    "    return x\n"
   ]
  },
  {
   "cell_type": "code",
   "execution_count": 33,
   "id": "28039334",
   "metadata": {},
   "outputs": [
    {
     "name": "stdout",
     "output_type": "stream",
     "text": [
      "/Volumes/CrucialX9/Project/Data Science/Image Based/dataset/Ba Impetigo/2_BA-impetigo (16).jpg\n"
     ]
    }
   ],
   "source": [
    "\n",
    "# Example image path\n",
    "img_path = input(\"Enter the location\") # replace with your image\n",
    "x = load_and_preprocess(img_path)\n",
    "print(img_path)\n"
   ]
  },
  {
   "cell_type": "code",
   "execution_count": 34,
   "id": "bca87ac3",
   "metadata": {},
   "outputs": [
    {
     "name": "stdout",
     "output_type": "stream",
     "text": [
      "\u001b[1m1/1\u001b[0m \u001b[32m━━━━━━━━━━━━━━━━━━━━\u001b[0m\u001b[37m\u001b[0m \u001b[1m0s\u001b[0m 46ms/step\n",
      "Predicted class: Ba Impetigo\n",
      "Confidence: 0.8831\n"
     ]
    }
   ],
   "source": [
    "\n",
    "# ============================\n",
    "# 3. Predict\n",
    "# ============================\n",
    "preds = model.predict(x)\n",
    "pred_class_idx = np.argmax(preds, axis=1)[0]\n",
    "pred_class_prob = preds[0][pred_class_idx]\n",
    "\n",
    "# ============================\n",
    "# 4. Map to class name\n",
    "# ============================\n",
    "class_names = ['Acne And Rosacea Photos', 'Actinic Keratosis Basal Cell Carcinoma And Other Malignant Lesions', 'Atopic Dermatitis Photos', 'Ba  Cellulitis', 'Ba Impetigo', 'Benign', 'Bullous Disease Photos', 'Cellulitis Impetigo And Other Bacterial Infections', 'Eczema Photos', 'Exanthems And Drug Eruptions', 'Fu Athlete Foot', 'Fu Nail Fungus', 'Fu Ringworm', 'Hair Loss Photos Alopecia And Other Hair Diseases', 'Herpes Hpv And Other Stds Photos', 'Light Diseases And Disorders Of Pigmentation', 'Lupus And Other Connective Tissue Diseases', 'Malignant', 'Melanoma Skin Cancer Nevi And Moles', 'Rashes']\n",
    "\n",
    "  # same order as training\n",
    "pred_class_name = class_names[pred_class_idx]\n",
    "\n",
    "print(f\"Predicted class: {pred_class_name}\")\n",
    "print(f\"Confidence: {pred_class_prob:.4f}\")\n"
   ]
  },
  {
   "cell_type": "code",
   "execution_count": null,
   "id": "9ccf8a6d",
   "metadata": {},
   "outputs": [],
   "source": [
    "def predict_image(img_path):\n",
    "    x = load_and_preprocess(img_path)\n",
    "    preds = model.predict(x)\n",
    "    pred_class_idx = np.argmax(preds, axis=1)[0]\n",
    "    pred_class_prob = preds[0][pred_class_idx]\n",
    "    pred_class_name = class_names[pred_class_idx]\n",
    "\n",
    "    return pred_class_name,pred_class_prob\n",
    "    \n",
    "\n",
    "    "
   ]
  },
  {
   "cell_type": "code",
   "execution_count": null,
   "id": "5f36ce1e",
   "metadata": {},
   "outputs": [],
   "source": []
  }
 ],
 "metadata": {
  "kernelspec": {
   "display_name": "venv",
   "language": "python",
   "name": "python3"
  },
  "language_info": {
   "codemirror_mode": {
    "name": "ipython",
    "version": 3
   },
   "file_extension": ".py",
   "mimetype": "text/x-python",
   "name": "python",
   "nbconvert_exporter": "python",
   "pygments_lexer": "ipython3",
   "version": "3.10.0"
  }
 },
 "nbformat": 4,
 "nbformat_minor": 5
}
