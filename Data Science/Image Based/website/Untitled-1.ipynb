{
 "cells": [
  {
   "cell_type": "code",
   "execution_count": 2,
   "id": "24bfc4d4",
   "metadata": {},
   "outputs": [
    {
     "name": "stdout",
     "output_type": "stream",
     "text": [
      "✅ Model loaded successfully!\n",
      "\u001b[1m1/1\u001b[0m \u001b[32m━━━━━━━━━━━━━━━━━━━━\u001b[0m\u001b[37m\u001b[0m \u001b[1m2s\u001b[0m 2s/step\n",
      "Predicted Class: Hair Loss Photos Alopecia And Other Hair Diseases\n",
      "Confidence: 41.71%\n"
     ]
    }
   ],
   "source": [
    "import numpy as np\n",
    "from tensorflow.keras.models import load_model\n",
    "from tensorflow.keras.preprocessing import image\n",
    "\n",
    "# -------------------------\n",
    "# 1. Load the saved model\n",
    "# -------------------------\n",
    "model_path = \"static/tf_model.keras\"  # Update path if needed\n",
    "model = load_model(model_path)\n",
    "print(\"✅ Model loaded successfully!\")\n",
    "\n",
    "# -------------------------\n",
    "# 2. Define class names\n",
    "# -------------------------\n",
    "class_names = [\n",
    "    'Acne And Rosacea Photos',\n",
    "    'Actinic Keratosis Basal Cell Carcinoma And Other Malignant Lesions',\n",
    "    'Atopic Dermatitis Photos',\n",
    "    'Ba  Cellulitis',\n",
    "    'Ba Impetigo',\n",
    "    'Benign',\n",
    "    'Bullous Disease Photos',\n",
    "    'Cellulitis Impetigo And Other Bacterial Infections',\n",
    "    'Eczema Photos',\n",
    "    'Exanthems And Drug Eruptions',\n",
    "    'Fu Athlete Foot',\n",
    "    'Fu Nail Fungus',\n",
    "    'Fu Ringworm',\n",
    "    'Hair Loss Photos Alopecia And Other Hair Diseases',\n",
    "    'Herpes Hpv And Other Stds Photos',\n",
    "    'Light Diseases And Disorders Of Pigmentation',\n",
    "    'Lupus And Other Connective Tissue Diseases',\n",
    "    'Malignant',\n",
    "    'Melanoma Skin Cancer Nevi And Moles',\n",
    "    'Rashes'\n",
    "]\n",
    "\n",
    "# -------------------------\n",
    "# 3. Function to predict\n",
    "# -------------------------\n",
    "def predict_image(img_path):\n",
    "    # Load and preprocess image\n",
    "    img = image.load_img(img_path, target_size=(128, 128))\n",
    "    img_array = image.img_to_array(img) / 255.0\n",
    "    img_array = np.expand_dims(img_array, axis=0)\n",
    "\n",
    "    # Make prediction\n",
    "    predictions = model.predict(img_array)[0]\n",
    "    max_index = np.argmax(predictions)\n",
    "    predicted_class = class_names[max_index]\n",
    "    confidence = float(predictions[max_index])\n",
    "\n",
    "    return predicted_class, confidence\n",
    "\n",
    "# -------------------------\n",
    "# 4. Example usage\n",
    "# -------------------------\n",
    "test_image = \"07Acne081101.jpg\"  # Replace with your image path\n",
    "predicted_class, confidence = predict_image(test_image)\n",
    "print(f\"Predicted Class: {predicted_class}\")\n",
    "print(f\"Confidence: {confidence*100:.2f}%\")\n"
   ]
  },
  {
   "cell_type": "code",
   "execution_count": null,
   "id": "aeff135c",
   "metadata": {},
   "outputs": [],
   "source": []
  }
 ],
 "metadata": {
  "kernelspec": {
   "display_name": "venv",
   "language": "python",
   "name": "python3"
  },
  "language_info": {
   "codemirror_mode": {
    "name": "ipython",
    "version": 3
   },
   "file_extension": ".py",
   "mimetype": "text/x-python",
   "name": "python",
   "nbconvert_exporter": "python",
   "pygments_lexer": "ipython3",
   "version": "3.10.0"
  }
 },
 "nbformat": 4,
 "nbformat_minor": 5
}
