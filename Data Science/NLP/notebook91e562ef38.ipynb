{
 "cells": [
  {
   "cell_type": "code",
   "execution_count": 6,
   "metadata": {
    "execution": {
     "iopub.execute_input": "2025-08-29T09:43:53.209853Z",
     "iopub.status.busy": "2025-08-29T09:43:53.209532Z",
     "iopub.status.idle": "2025-08-29T09:43:54.030024Z",
     "shell.execute_reply": "2025-08-29T09:43:54.029105Z",
     "shell.execute_reply.started": "2025-08-29T09:43:53.209826Z"
    },
    "trusted": true
   },
   "outputs": [],
   "source": [
    "import pandas as pd\n",
    "import numpy as np\n",
    "import random\n",
    "from sklearn.model_selection import train_test_split\n",
    "from sklearn.feature_extraction.text import TfidfVectorizer\n",
    "from sklearn.ensemble import RandomForestRegressor\n",
    "from sklearn.metrics import mean_absolute_error, mean_squared_error\n",
    "import joblib\n",
    "\n",
    "# 1. Load the downloaded dataset\n",
    "df = pd.read_csv(\"Resume/Resume.csv\")\n"
   ]
  },
  {
   "cell_type": "code",
   "execution_count": 7,
   "metadata": {
    "execution": {
     "iopub.execute_input": "2025-08-29T09:43:54.031697Z",
     "iopub.status.busy": "2025-08-29T09:43:54.031405Z",
     "iopub.status.idle": "2025-08-29T09:43:54.035722Z",
     "shell.execute_reply": "2025-08-29T09:43:54.034848Z",
     "shell.execute_reply.started": "2025-08-29T09:43:54.031670Z"
    },
    "trusted": true
   },
   "outputs": [],
   "source": [
    "# Set random seeds for reproducibility\n",
    "random.seed(42)\n",
    "np.random.seed(42)\n"
   ]
  },
  {
   "cell_type": "code",
   "execution_count": 8,
   "metadata": {
    "execution": {
     "iopub.execute_input": "2025-08-29T09:43:56.495452Z",
     "iopub.status.busy": "2025-08-29T09:43:56.494567Z",
     "iopub.status.idle": "2025-08-29T09:43:56.508019Z",
     "shell.execute_reply": "2025-08-29T09:43:56.507182Z",
     "shell.execute_reply.started": "2025-08-29T09:43:56.495422Z"
    },
    "trusted": true
   },
   "outputs": [
    {
     "name": "stdout",
     "output_type": "stream",
     "text": [
      "<class 'pandas.core.frame.DataFrame'>\n",
      "RangeIndex: 2484 entries, 0 to 2483\n",
      "Data columns (total 4 columns):\n",
      " #   Column       Non-Null Count  Dtype \n",
      "---  ------       --------------  ----- \n",
      " 0   ID           2484 non-null   int64 \n",
      " 1   Resume_str   2484 non-null   object\n",
      " 2   Resume_html  2484 non-null   object\n",
      " 3   Category     2484 non-null   object\n",
      "dtypes: int64(1), object(3)\n",
      "memory usage: 77.8+ KB\n"
     ]
    }
   ],
   "source": [
    "df.info()"
   ]
  },
  {
   "cell_type": "code",
   "execution_count": 9,
   "metadata": {
    "execution": {
     "iopub.execute_input": "2025-08-29T09:43:57.418436Z",
     "iopub.status.busy": "2025-08-29T09:43:57.417832Z",
     "iopub.status.idle": "2025-08-29T09:43:57.423477Z",
     "shell.execute_reply": "2025-08-29T09:43:57.422664Z",
     "shell.execute_reply.started": "2025-08-29T09:43:57.418410Z"
    },
    "trusted": true
   },
   "outputs": [
    {
     "name": "stdout",
     "output_type": "stream",
     "text": [
      "Dataset loaded with 2484 entries and 24 categories.\n"
     ]
    }
   ],
   "source": [
    "print(f\"Dataset loaded with {len(df)} entries and {df['Category'].nunique()} categories.\")\n"
   ]
  },
  {
   "cell_type": "code",
   "execution_count": 10,
   "metadata": {
    "execution": {
     "iopub.execute_input": "2025-08-29T09:44:01.287606Z",
     "iopub.status.busy": "2025-08-29T09:44:01.287264Z",
     "iopub.status.idle": "2025-08-29T09:44:01.294870Z",
     "shell.execute_reply": "2025-08-29T09:44:01.294061Z",
     "shell.execute_reply.started": "2025-08-29T09:44:01.287584Z"
    },
    "trusted": true
   },
   "outputs": [
    {
     "data": {
      "text/plain": [
       "Category\n",
       "INFORMATION-TECHNOLOGY    120\n",
       "BUSINESS-DEVELOPMENT      120\n",
       "FINANCE                   118\n",
       "ADVOCATE                  118\n",
       "ACCOUNTANT                118\n",
       "ENGINEERING               118\n",
       "CHEF                      118\n",
       "AVIATION                  117\n",
       "FITNESS                   117\n",
       "SALES                     116\n",
       "BANKING                   115\n",
       "HEALTHCARE                115\n",
       "CONSULTANT                115\n",
       "CONSTRUCTION              112\n",
       "PUBLIC-RELATIONS          111\n",
       "HR                        110\n",
       "DESIGNER                  107\n",
       "ARTS                      103\n",
       "TEACHER                   102\n",
       "APPAREL                    97\n",
       "DIGITAL-MEDIA              96\n",
       "AGRICULTURE                63\n",
       "AUTOMOBILE                 36\n",
       "BPO                        22\n",
       "Name: count, dtype: int64"
      ]
     },
     "execution_count": 10,
     "metadata": {},
     "output_type": "execute_result"
    }
   ],
   "source": [
    "df.Category.value_counts()"
   ]
  },
  {
   "cell_type": "code",
   "execution_count": 11,
   "metadata": {
    "execution": {
     "iopub.execute_input": "2025-08-29T09:44:03.401997Z",
     "iopub.status.busy": "2025-08-29T09:44:03.401333Z",
     "iopub.status.idle": "2025-08-29T09:44:03.408936Z",
     "shell.execute_reply": "2025-08-29T09:44:03.407952Z",
     "shell.execute_reply.started": "2025-08-29T09:44:03.401963Z"
    },
    "trusted": true
   },
   "outputs": [],
   "source": [
    "# 2. Define a comprehensive JD for each category\n",
    "category_to_jd = {\n",
    "    \"INFORMATION-TECHNOLOGY\": \"Seeking an IT professional with expertise in software development, system administration, or network engineering. Proficiency in programming languages (Python, Java, C++), cloud platforms (AWS, Azure), and DevOps tools is required. Strong problem-solving skills and a Bachelor's degree in Computer Science or related field are essential.\",\n",
    "    \"BUSINESS-DEVELOPMENT\": \"Looking for a Business Development manager to identify new growth opportunities and build strategic partnerships. Must have experience in market analysis, sales strategies, negotiation, and client relationship management. Excellent communication and analytical skills. MBA is a plus.\",\n",
    "    \"FINANCE\": \"We need a Finance analyst with experience in financial modeling, investment analysis, and risk management. Proficiency in Excel, Bloomberg Terminal, and statistical software. Strong understanding of financial markets and regulations. CFA candidate or charterholder preferred.\",\n",
    "    \"ADVOCATE\": \"Seeking a qualified Advocate with expertise in legal research, litigation, and client advisory. Must have strong knowledge of Indian law, excellent drafting skills, and courtroom experience. LL.B. degree and bar council membership are required.\",\n",
    "    \"ACCOUNTANT\": \"Looking for a detail-oriented Accountant proficient in financial reporting, GST filing, TDS, and auditing. Experience with Tally or QuickBooks is essential. Strong analytical skills and knowledge of accounting standards. CA/CPA preferred.\",\n",
    "    \"ENGINEERING\": \"We need an Engineer with expertise in design, project management, and technical problem-solving. Specialization in mechanical, civil, electrical, or electronics engineering. Proficiency in AutoCAD, SolidWorks, or other engineering software. Bachelor's degree in Engineering required.\",\n",
    "    \"CHEF\": \"Seeking a creative and skilled Chef with experience in menu planning, food preparation, and kitchen management. Knowledge of various cuisines, food safety standards, and cost control. Culinary degree or equivalent experience required. Strong leadership and organizational skills.\",\n",
    "    \"AVIATION\": \"Looking for an Aviation professional with background in flight operations, aircraft maintenance, or air traffic control. Relevant certifications (DGCA, FAA) are required. Strong technical knowledge and safety awareness. Degree in Aviation or related field.\",\n",
    "    \"FITNESS\": \"We need a certified Fitness Trainer with expertise in personal training, nutrition guidance, and workout programming. Knowledge of anatomy and physiology. Excellent motivational and communication skills. Certification from ACE, NASM, or equivalent.\",\n",
    "    \"SALES\": \"Seeking a results-driven Sales professional with proven track record in achieving targets. Experience in client acquisition, relationship management, and sales strategies. Excellent negotiation and communication skills. Industry-specific knowledge is a plus.\",\n",
    "    \"BANKING\": \"Looking for a Banking professional with experience in retail banking, operations, or wealth management. Knowledge of banking products, KYC/AML norms, and financial services. Strong customer service and numerical skills. MBA Finance or related degree.\",\n",
    "    \"HEALTHCARE\": \"We need a Healthcare professional (Doctor, Nurse, Technician) with clinical experience and patient care skills. Knowledge of medical terminology, procedures, and healthcare protocols. Relevant degree and certifications (MBBS, BSc Nursing) are required.\",\n",
    "    \"CONSULTANT\": \"Seeking a Management Consultant with strong analytical and problem-solving abilities. Experience in business strategy, process improvement, and data analysis. Excellent presentation and client management skills. MBA from a top-tier institution is preferred.\",\n",
    "    \"CONSTRUCTION\": \"Looking for a Construction Manager or Civil Engineer with project management experience. Knowledge of building codes, safety regulations, and construction methodologies. Proficiency in AutoCAD and MS Project. Degree in Civil Engineering or Construction Management.\",\n",
    "    \"PUBLIC-RELATIONS\": \"We need a PR Executive with experience in media relations, crisis management, and brand communication. Strong writing skills and media network. Ability to develop and execute PR strategies. Degree in Communications, Journalism, or Marketing.\",\n",
    "    \"HR\": \"Seeking an HR Professional with expertise in recruitment, employee relations, and performance management. Knowledge of labor laws and HR best practices. Strong interpersonal and communication skills. MBA in HR or related degree.\",\n",
    "    \"DESIGNER\": \"Looking for a creative Designer with expertise in graphic design, UI/UX, or product design. Proficiency in Adobe Creative Suite and design tools. Strong portfolio showcasing design skills. Degree in Design or related field.\",\n",
    "    \"ARTS\": \"We need an Arts professional with background in visual arts, performing arts, or art education. Creative skills and artistic portfolio. Experience in teaching, curation, or art production. Degree in Fine Arts or related field.\",\n",
    "    \"TEACHER\": \"Seeking a qualified Teacher with experience in curriculum development and student instruction. Subject matter expertise and teaching methodology. Strong communication and classroom management skills. B.Ed. or equivalent teaching degree required.\",\n",
    "    \"APPAREL\": \"Looking for a Fashion Designer or Merchandiser with knowledge of textile design, trend analysis, and production. Creative skills and portfolio. Experience in fashion industry. Degree in Fashion Design or Technology.\",\n",
    "    \"DIGITAL-MEDIA\": \"We need a Digital Marketing Specialist with expertise in SEO, SEM, social media, and content marketing. Analytics skills and knowledge of digital tools. Experience with campaign management. Degree in Marketing or Digital Media.\",\n",
    "    \"AGRICULTURE\": \"Seeking an Agriculture Specialist with knowledge of modern farming techniques, crop management, and agribusiness. Experience with sustainable practices and agricultural technology. Degree in Agriculture or related field.\",\n",
    "    \"AUTOMOBILE\": \"Looking for an Automotive Engineer or Technician with expertise in vehicle design, diagnostics, or repair. Knowledge of automotive systems and technology. Relevant certifications. Degree in Automotive Engineering.\",\n",
    "    \"BPO\": \"We need a BPO Professional with experience in customer service, technical support, or back-office operations. Excellent communication skills and process knowledge. Ability to work in shifts. Graduate with good English proficiency.\"\n",
    "}\n"
   ]
  },
  {
   "cell_type": "code",
   "execution_count": 12,
   "metadata": {
    "execution": {
     "iopub.execute_input": "2025-08-29T09:44:04.484042Z",
     "iopub.status.busy": "2025-08-29T09:44:04.483729Z",
     "iopub.status.idle": "2025-08-29T09:44:04.724401Z",
     "shell.execute_reply": "2025-08-29T09:44:04.723602Z",
     "shell.execute_reply.started": "2025-08-29T09:44:04.484017Z"
    },
    "trusted": true
   },
   "outputs": [
    {
     "name": "stdout",
     "output_type": "stream",
     "text": [
      "Creating training examples with ATS scores...\n"
     ]
    }
   ],
   "source": [
    "\n",
    "# 3. Create the training data with match scores\n",
    "print(\"Creating training examples with ATS scores...\")\n",
    "training_data = []\n",
    "\n",
    "for idx, row in df.iterrows():\n",
    "    resume_text = row['Resume_str']  # Using the text version\n",
    "    true_category = row['Category']\n",
    "    \n",
    "    # Create POSITIVE example (correct category match - high score)\n",
    "    correct_jd = category_to_jd[true_category]\n",
    "    correct_score = random.randint(85, 98)  # High score for correct match\n",
    "    training_data.append({\n",
    "        \"resume_text\": resume_text,\n",
    "        \"job_description_text\": correct_jd,\n",
    "        \"match_score\": correct_score\n",
    "    })\n",
    "    \n",
    "    # Create NEGATIVE examples (wrong category - low score)\n",
    "    # Get 2-3 random wrong categories\n",
    "    wrong_categories = random.sample([cat for cat in category_to_jd.keys() if cat != true_category], k=random.randint(2, 3))\n",
    "    \n",
    "    for wrong_cat in wrong_categories:\n",
    "        wrong_jd = category_to_jd[wrong_cat]\n",
    "        # The more dissimilar the categories, the lower the score\n",
    "        wrong_score = random.randint(5, 45)  # Low score for wrong match\n",
    "        training_data.append({\n",
    "            \"resume_text\": resume_text,\n",
    "            \"job_description_text\": wrong_jd,\n",
    "            \"match_score\": wrong_score\n",
    "        })\n",
    "\n",
    "\n",
    "\n",
    "\n",
    "\n",
    "\n",
    "\n"
   ]
  },
  {
   "cell_type": "code",
   "execution_count": 13,
   "metadata": {
    "execution": {
     "iopub.execute_input": "2025-08-29T09:44:05.429588Z",
     "iopub.status.busy": "2025-08-29T09:44:05.429263Z",
     "iopub.status.idle": "2025-08-29T09:44:05.467142Z",
     "shell.execute_reply": "2025-08-29T09:44:05.466357Z",
     "shell.execute_reply.started": "2025-08-29T09:44:05.429563Z"
    },
    "trusted": true
   },
   "outputs": [
    {
     "name": "stdout",
     "output_type": "stream",
     "text": [
      "Created training dataset with 8668 examples\n",
      "Score range: 5 to 98\n"
     ]
    }
   ],
   "source": [
    "# Create DataFrame\n",
    "training_df = pd.DataFrame(training_data)\n",
    "print(f\"Created training dataset with {len(training_df)} examples\")\n",
    "print(f\"Score range: {training_df['match_score'].min()} to {training_df['match_score'].max()}\")\n",
    "\n",
    "# 4. Prepare data for model training\n",
    "training_df['combined_text'] = training_df['job_description_text'] + \" \" + training_df['resume_text']\n",
    "X = training_df['combined_text']\n",
    "y = training_df['match_score']"
   ]
  },
  {
   "cell_type": "code",
   "execution_count": 14,
   "metadata": {
    "execution": {
     "iopub.execute_input": "2025-08-29T09:44:15.155372Z",
     "iopub.status.busy": "2025-08-29T09:44:15.155025Z",
     "iopub.status.idle": "2025-08-29T09:44:15.271963Z",
     "shell.execute_reply": "2025-08-29T09:44:15.271206Z",
     "shell.execute_reply.started": "2025-08-29T09:44:15.155347Z"
    },
    "trusted": true
   },
   "outputs": [],
   "source": [
    "# 5. Train-test split\n",
    "X_train, X_test, y_train, y_test = train_test_split(X, y, test_size=0.2, random_state=42, stratify=pd.cut(y, bins=5))"
   ]
  },
  {
   "cell_type": "code",
   "execution_count": 15,
   "metadata": {
    "execution": {
     "iopub.execute_input": "2025-08-29T09:44:15.624144Z",
     "iopub.status.busy": "2025-08-29T09:44:15.623854Z",
     "iopub.status.idle": "2025-08-29T09:44:29.438712Z",
     "shell.execute_reply": "2025-08-29T09:44:29.437755Z",
     "shell.execute_reply.started": "2025-08-29T09:44:15.624122Z"
    },
    "trusted": true
   },
   "outputs": [
    {
     "name": "stdout",
     "output_type": "stream",
     "text": [
      "Vectorizing text features...\n",
      "Vectorized features: 8000\n"
     ]
    }
   ],
   "source": [
    "# 6. Vectorize text\n",
    "print(\"Vectorizing text features...\")\n",
    "vectorizer = TfidfVectorizer(\n",
    "    max_features=8000,      # Increased due to larger dataset\n",
    "    stop_words='english',\n",
    "    ngram_range=(1, 2),     # Consider single words and word pairs\n",
    "    min_df=2,               # Ignore terms that appear only once\n",
    "    max_df=0.85             # Ignore overly common terms\n",
    ")\n",
    "X_train_tfidf = vectorizer.fit_transform(X_train)\n",
    "X_test_tfidf = vectorizer.transform(X_test)\n",
    "\n",
    "print(f\"Vectorized features: {X_train_tfidf.shape[1]}\")"
   ]
  },
  {
   "cell_type": "code",
   "execution_count": 17,
   "metadata": {
    "execution": {
     "iopub.execute_input": "2025-08-29T09:45:09.107743Z",
     "iopub.status.busy": "2025-08-29T09:45:09.107415Z"
    },
    "trusted": true
   },
   "outputs": [
    {
     "name": "stdout",
     "output_type": "stream",
     "text": [
      "Training Random Forest model with progress bar...\n"
     ]
    },
    {
     "name": "stderr",
     "output_type": "stream",
     "text": [
      "Training Trees: 100%|██████████| 100/100 [11:38<00:00,  6.99s/it]\n"
     ]
    }
   ],
   "source": [
    "from tqdm import tqdm\n",
    "from sklearn.ensemble import RandomForestRegressor\n",
    "\n",
    "# Initialize the model with warm_start=True\n",
    "print(\"Training Random Forest model with progress bar...\")\n",
    "\n",
    "n_estimators = 100\n",
    "\n",
    "model = RandomForestRegressor(\n",
    "    n_estimators=1,           # Start with one tree\n",
    "    warm_start=True,          # Allow incremental training\n",
    "    max_depth=25,\n",
    "    min_samples_split=5,\n",
    "    min_samples_leaf=2,\n",
    "    random_state=42,\n",
    "    n_jobs=-1\n",
    ")\n",
    "\n",
    "# Train incrementally with tqdm\n",
    "for i in tqdm(range(1, n_estimators + 1), desc=\"Training Trees\"):\n",
    "    model.set_params(n_estimators=i)\n",
    "    model.fit(X_train_tfidf, y_train)\n"
   ]
  },
  {
   "cell_type": "code",
   "execution_count": 18,
   "metadata": {
    "trusted": true
   },
   "outputs": [
    {
     "name": "stdout",
     "output_type": "stream",
     "text": [
      "\n",
      "=== Model Evaluation ===\n",
      "Train MAE: 12.99\n",
      "Test MAE:  21.74\n",
      "Train RMSE: 15.93\n",
      "Test RMSE:  26.56\n"
     ]
    }
   ],
   "source": [
    "# 8. Evaluate model\n",
    "train_pred = model.predict(X_train_tfidf)\n",
    "test_pred = model.predict(X_test_tfidf)\n",
    "\n",
    "train_mae = mean_absolute_error(y_train, train_pred)\n",
    "test_mae = mean_absolute_error(y_test, test_pred)\n",
    "train_rmse = np.sqrt(mean_squared_error(y_train, train_pred))\n",
    "test_rmse = np.sqrt(mean_squared_error(y_test, test_pred))\n",
    "\n",
    "print(\"\\n=== Model Evaluation ===\")\n",
    "print(f\"Train MAE: {train_mae:.2f}\")\n",
    "print(f\"Test MAE:  {test_mae:.2f}\")\n",
    "print(f\"Train RMSE: {train_rmse:.2f}\")\n",
    "print(f\"Test RMSE:  {test_rmse:.2f}\")\n"
   ]
  },
  {
   "cell_type": "code",
   "execution_count": 19,
   "metadata": {
    "trusted": true
   },
   "outputs": [
    {
     "name": "stdout",
     "output_type": "stream",
     "text": [
      "\n",
      "Model and artifacts saved successfully!\n",
      "Files created:\n",
      "- resume_ats_scorer_model.pkl (Trained model)\n",
      "- tfidf_vectorizer.pkl (Fitted vectorizer)\n",
      "- category_jd_mapping.pkl (JD templates)\n"
     ]
    }
   ],
   "source": [
    "# 9. Save the model and vectorizer\n",
    "joblib.dump(model, 'resume_ats_scorer_model.pkl')\n",
    "joblib.dump(vectorizer, 'tfidf_vectorizer.pkl')\n",
    "joblib.dump(category_to_jd, 'category_jd_mapping.pkl')\n",
    "\n",
    "print(\"\\nModel and artifacts saved successfully!\")\n",
    "print(\"Files created:\")\n",
    "print(\"- resume_ats_scorer_model.pkl (Trained model)\")\n",
    "print(\"- tfidf_vectorizer.pkl (Fitted vectorizer)\")\n",
    "print(\"- category_jd_mapping.pkl (JD templates)\")"
   ]
  },
  {
   "cell_type": "code",
   "execution_count": 20,
   "metadata": {
    "trusted": true
   },
   "outputs": [],
   "source": [
    "# 10. Test with a sample prediction\n",
    "def predict_ats_score(resume_text, job_description):\n",
    "    \"\"\"Predict ATS score for a given resume and JD\"\"\"\n",
    "    combined_text = job_description + \" \" + resume_text\n",
    "    features = vectorizer.transform([combined_text])\n",
    "    score = model.predict(features)[0]\n",
    "    return max(0, min(100, round(score)))\n",
    "\n"
   ]
  },
  {
   "cell_type": "code",
   "execution_count": 23,
   "metadata": {
    "trusted": true
   },
   "outputs": [
    {
     "name": "stdout",
     "output_type": "stream",
     "text": [
      "\n",
      "Sample prediction: 78/100\n"
     ]
    }
   ],
   "source": [
    "# Test with a sample\n",
    "sample_resume = df[df['Category'] == 'INFORMATION-TECHNOLOGY'].iloc[50]['Resume_str']\n",
    "sample_jd = category_to_jd['INFORMATION-TECHNOLOGY']\n",
    "\n",
    "print(f\"\\nSample prediction: {predict_ats_score(sample_resume, sample_jd)}/100\")"
   ]
  },
  {
   "cell_type": "code",
   "execution_count": null,
   "metadata": {},
   "outputs": [],
   "source": []
  }
 ],
 "metadata": {
  "kaggle": {
   "accelerator": "none",
   "dataSources": [
    {
     "datasetId": 1519260,
     "sourceId": 2508632,
     "sourceType": "datasetVersion"
    }
   ],
   "dockerImageVersionId": 31089,
   "isGpuEnabled": false,
   "isInternetEnabled": false,
   "language": "python",
   "sourceType": "notebook"
  },
  "kernelspec": {
   "display_name": "venv",
   "language": "python",
   "name": "python3"
  },
  "language_info": {
   "codemirror_mode": {
    "name": "ipython",
    "version": 3
   },
   "file_extension": ".py",
   "mimetype": "text/x-python",
   "name": "python",
   "nbconvert_exporter": "python",
   "pygments_lexer": "ipython3",
   "version": "3.10.0"
  }
 },
 "nbformat": 4,
 "nbformat_minor": 4
}
