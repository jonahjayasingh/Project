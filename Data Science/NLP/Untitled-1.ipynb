{
 "cells": [
  {
   "cell_type": "code",
   "execution_count": 1,
   "id": "9abf8f1c",
   "metadata": {},
   "outputs": [
    {
     "ename": "ModuleNotFoundError",
     "evalue": "No module named 'PyPDF2'",
     "output_type": "error",
     "traceback": [
      "\u001b[0;31m---------------------------------------------------------------------------\u001b[0m",
      "\u001b[0;31mModuleNotFoundError\u001b[0m                       Traceback (most recent call last)",
      "Cell \u001b[0;32mIn[1], line 2\u001b[0m\n\u001b[1;32m      1\u001b[0m \u001b[38;5;28;01mimport\u001b[39;00m\u001b[38;5;250m \u001b[39m\u001b[38;5;21;01mos\u001b[39;00m\n\u001b[0;32m----> 2\u001b[0m \u001b[38;5;28;01mimport\u001b[39;00m\u001b[38;5;250m \u001b[39m\u001b[38;5;21;01mPyPDF2\u001b[39;00m\n\u001b[1;32m      3\u001b[0m \u001b[38;5;28;01mfrom\u001b[39;00m\u001b[38;5;250m \u001b[39m\u001b[38;5;21;01mtqdm\u001b[39;00m\u001b[38;5;250m \u001b[39m\u001b[38;5;28;01mimport\u001b[39;00m tqdm\n\u001b[1;32m      4\u001b[0m \u001b[38;5;28;01mimport\u001b[39;00m\u001b[38;5;250m \u001b[39m\u001b[38;5;21;01mpandas\u001b[39;00m\u001b[38;5;250m \u001b[39m\u001b[38;5;28;01mas\u001b[39;00m\u001b[38;5;250m \u001b[39m\u001b[38;5;21;01mpd\u001b[39;00m\n",
      "\u001b[0;31mModuleNotFoundError\u001b[0m: No module named 'PyPDF2'"
     ]
    }
   ],
   "source": [
    "import os\n",
    "import PyPDF2\n",
    "from tqdm import tqdm\n",
    "import pandas as pd\n",
    "from sklearn.feature_extraction.text import TfidfVectorizer\n",
    "from sklearn.metrics.pairwise import cosine_similarity\n",
    "from sklearn.ensemble import RandomForestRegressor\n",
    "from sklearn.model_selection import train_test_split\n",
    "from sklearn.metrics import mean_squared_error"
   ]
  },
  {
   "cell_type": "code",
   "execution_count": null,
   "id": "0258d303",
   "metadata": {},
   "outputs": [],
   "source": [
    "# --- Extract Resume Texts ---\n",
    "RESUME_FOLDER = \"data/data\"\n"
   ]
  },
  {
   "cell_type": "code",
   "execution_count": null,
   "id": "2c895181",
   "metadata": {},
   "outputs": [],
   "source": [
    "def extract_text_from_pdf(file_path):\n",
    "    text = \"\"\n",
    "    try:\n",
    "        with open(file_path, 'rb') as file:\n",
    "            reader = PyPDF2.PdfReader(file)\n",
    "            for page in reader.pages:\n",
    "                text += page.extract_text() or \"\"\n",
    "    except Exception as e:\n",
    "        print(f\"Error reading {file_path}: {e}\")\n",
    "    return text\n"
   ]
  },
  {
   "cell_type": "code",
   "execution_count": null,
   "id": "ef77f66e",
   "metadata": {},
   "outputs": [
    {
     "name": "stderr",
     "output_type": "stream",
     "text": [
      "Extracting PDFs: 100%|██████████| 2484/2484 [06:07<00:00,  6.76it/s]"
     ]
    },
    {
     "name": "stdout",
     "output_type": "stream",
     "text": [
      "Loaded 2483 resumes\n"
     ]
    },
    {
     "name": "stderr",
     "output_type": "stream",
     "text": [
      "\n"
     ]
    }
   ],
   "source": [
    "resume_texts = []\n",
    "resume_files = []\n",
    "\n",
    "all_files = [os.path.join(root, file)\n",
    "             for root, dirs, files in os.walk(RESUME_FOLDER)\n",
    "             for file in files if file.lower().endswith(\".pdf\")]\n",
    "\n",
    "for file_path in tqdm(all_files, desc=\"Extracting PDFs\"):\n",
    "    text = extract_text_from_pdf(file_path)\n",
    "    if text.strip():\n",
    "        resume_texts.append(text)\n",
    "        resume_files.append(file_path)\n",
    "\n",
    "df_resumes = pd.DataFrame({\"file\": resume_files, \"text\": resume_texts})\n",
    "print(f\"Loaded {len(df_resumes)} resumes\")"
   ]
  },
  {
   "cell_type": "code",
   "execution_count": null,
   "id": "db20d221",
   "metadata": {},
   "outputs": [],
   "source": [
    "# --- Sample Job Description ---\n",
    "job_description = \"\"\"\n",
    "Looking for a Data Scientist with Python, Machine Learning,\n",
    "Deep Learning, and NLP experience.\n",
    "\"\"\""
   ]
  },
  {
   "cell_type": "code",
   "execution_count": null,
   "id": "9f440fc0",
   "metadata": {},
   "outputs": [],
   "source": [
    "# --- TF-IDF Vectorization ---\n",
    "vectorizer = TfidfVectorizer(stop_words='english')\n",
    "all_texts = [job_description] + df_resumes['text'].tolist()\n",
    "tfidf_matrix = vectorizer.fit_transform(all_texts)\n"
   ]
  },
  {
   "cell_type": "code",
   "execution_count": null,
   "id": "1651689b",
   "metadata": {},
   "outputs": [],
   "source": [
    "# --- Compute similarity scores ---\n",
    "similarity_scores = cosine_similarity(tfidf_matrix[0:1], tfidf_matrix[1:]).flatten()\n",
    "df_resumes['score'] = similarity_scores"
   ]
  },
  {
   "cell_type": "code",
   "execution_count": null,
   "id": "20e4781b",
   "metadata": {},
   "outputs": [
    {
     "data": {
      "text/html": [
       "<div>\n",
       "<style scoped>\n",
       "    .dataframe tbody tr th:only-of-type {\n",
       "        vertical-align: middle;\n",
       "    }\n",
       "\n",
       "    .dataframe tbody tr th {\n",
       "        vertical-align: top;\n",
       "    }\n",
       "\n",
       "    .dataframe thead th {\n",
       "        text-align: right;\n",
       "    }\n",
       "</style>\n",
       "<table border=\"1\" class=\"dataframe\">\n",
       "  <thead>\n",
       "    <tr style=\"text-align: right;\">\n",
       "      <th></th>\n",
       "      <th>file</th>\n",
       "      <th>text</th>\n",
       "      <th>score</th>\n",
       "    </tr>\n",
       "  </thead>\n",
       "  <tbody>\n",
       "    <tr>\n",
       "      <th>0</th>\n",
       "      <td>data/data/AGRICULTURE/37201447.pdf</td>\n",
       "      <td>ADULT EDUCATION INSTRUCTOR\\nSummary\\nSeasoned ...</td>\n",
       "      <td>0.060369</td>\n",
       "    </tr>\n",
       "    <tr>\n",
       "      <th>1</th>\n",
       "      <td>data/data/AGRICULTURE/12674256.pdf</td>\n",
       "      <td>FINANCIAL SALES CONSULTANT\\nProfessional Summa...</td>\n",
       "      <td>0.000682</td>\n",
       "    </tr>\n",
       "    <tr>\n",
       "      <th>2</th>\n",
       "      <td>data/data/AGRICULTURE/29968330.pdf</td>\n",
       "      <td>EXTENSION METHODOLOGIST\\nProfile\\nSelf-motivat...</td>\n",
       "      <td>0.006205</td>\n",
       "    </tr>\n",
       "    <tr>\n",
       "      <th>3</th>\n",
       "      <td>data/data/AGRICULTURE/81042872.pdf</td>\n",
       "      <td>RESEARCH SCIENTIST\\nSummary\\nHighly motivated ...</td>\n",
       "      <td>0.064153</td>\n",
       "    </tr>\n",
       "    <tr>\n",
       "      <th>4</th>\n",
       "      <td>data/data/AGRICULTURE/20006992.pdf</td>\n",
       "      <td>FRONT DESK CLERK (FEE BASIS, JOHN D DINGELL VA...</td>\n",
       "      <td>0.013501</td>\n",
       "    </tr>\n",
       "    <tr>\n",
       "      <th>...</th>\n",
       "      <td>...</td>\n",
       "      <td>...</td>\n",
       "      <td>...</td>\n",
       "    </tr>\n",
       "    <tr>\n",
       "      <th>2478</th>\n",
       "      <td>data/data/AUTOMOBILE/11257723.pdf</td>\n",
       "      <td>GENERAL LIABILITY CLAIM REPRESENTATIVE\\nSummar...</td>\n",
       "      <td>0.001381</td>\n",
       "    </tr>\n",
       "    <tr>\n",
       "      <th>2479</th>\n",
       "      <td>data/data/AUTOMOBILE/11797122.pdf</td>\n",
       "      <td>AUTOMOBILE TRANSPORTER\\nProfessional Summary\\n...</td>\n",
       "      <td>0.004288</td>\n",
       "    </tr>\n",
       "    <tr>\n",
       "      <th>2480</th>\n",
       "      <td>data/data/AUTOMOBILE/22946204.pdf</td>\n",
       "      <td>Highlights\\nProg. Languages: \\nC (5+ yrs), Pyt...</td>\n",
       "      <td>0.090598</td>\n",
       "    </tr>\n",
       "    <tr>\n",
       "      <th>2481</th>\n",
       "      <td>data/data/AUTOMOBILE/18932512.pdf</td>\n",
       "      <td>CUSTOMER RELATIONS SPECIALIST\\nSummary\\nTo obt...</td>\n",
       "      <td>0.005227</td>\n",
       "    </tr>\n",
       "    <tr>\n",
       "      <th>2482</th>\n",
       "      <td>data/data/AUTOMOBILE/24592627.pdf</td>\n",
       "      <td>SENIOR SPECIAL INVESTIGATOR\\nSummary\\nTo work ...</td>\n",
       "      <td>0.000409</td>\n",
       "    </tr>\n",
       "  </tbody>\n",
       "</table>\n",
       "<p>2483 rows × 3 columns</p>\n",
       "</div>"
      ],
      "text/plain": [
       "                                    file  \\\n",
       "0     data/data/AGRICULTURE/37201447.pdf   \n",
       "1     data/data/AGRICULTURE/12674256.pdf   \n",
       "2     data/data/AGRICULTURE/29968330.pdf   \n",
       "3     data/data/AGRICULTURE/81042872.pdf   \n",
       "4     data/data/AGRICULTURE/20006992.pdf   \n",
       "...                                  ...   \n",
       "2478   data/data/AUTOMOBILE/11257723.pdf   \n",
       "2479   data/data/AUTOMOBILE/11797122.pdf   \n",
       "2480   data/data/AUTOMOBILE/22946204.pdf   \n",
       "2481   data/data/AUTOMOBILE/18932512.pdf   \n",
       "2482   data/data/AUTOMOBILE/24592627.pdf   \n",
       "\n",
       "                                                   text     score  \n",
       "0     ADULT EDUCATION INSTRUCTOR\\nSummary\\nSeasoned ...  0.060369  \n",
       "1     FINANCIAL SALES CONSULTANT\\nProfessional Summa...  0.000682  \n",
       "2     EXTENSION METHODOLOGIST\\nProfile\\nSelf-motivat...  0.006205  \n",
       "3     RESEARCH SCIENTIST\\nSummary\\nHighly motivated ...  0.064153  \n",
       "4     FRONT DESK CLERK (FEE BASIS, JOHN D DINGELL VA...  0.013501  \n",
       "...                                                 ...       ...  \n",
       "2478  GENERAL LIABILITY CLAIM REPRESENTATIVE\\nSummar...  0.001381  \n",
       "2479  AUTOMOBILE TRANSPORTER\\nProfessional Summary\\n...  0.004288  \n",
       "2480  Highlights\\nProg. Languages: \\nC (5+ yrs), Pyt...  0.090598  \n",
       "2481  CUSTOMER RELATIONS SPECIALIST\\nSummary\\nTo obt...  0.005227  \n",
       "2482  SENIOR SPECIAL INVESTIGATOR\\nSummary\\nTo work ...  0.000409  \n",
       "\n",
       "[2483 rows x 3 columns]"
      ]
     },
     "execution_count": 21,
     "metadata": {},
     "output_type": "execute_result"
    }
   ],
   "source": [
    "df_resumes"
   ]
  },
  {
   "cell_type": "code",
   "execution_count": null,
   "id": "0e901786",
   "metadata": {},
   "outputs": [
    {
     "name": "stdout",
     "output_type": "stream",
     "text": [
      "Mean Squared Error: 0.0000\n"
     ]
    }
   ],
   "source": [
    "# --- Optional: Train a model to predict scores ---\n",
    "X_train, X_test, y_train, y_test = train_test_split(tfidf_matrix[1:], similarity_scores, test_size=0.2, random_state=42)\n",
    "regressor = RandomForestRegressor(n_estimators=100, random_state=42)\n",
    "regressor.fit(X_train, y_train)\n",
    "y_pred = regressor.predict(X_test)\n",
    "print(f\"Mean Squared Error: {mean_squared_error(y_test, y_pred):.4f}\")"
   ]
  },
  {
   "cell_type": "code",
   "execution_count": null,
   "id": "a3201322",
   "metadata": {},
   "outputs": [
    {
     "name": "stdout",
     "output_type": "stream",
     "text": [
      "\n",
      "Top 5 resumes:\n",
      "data/data/ARTS/12777487.pdf — Score: 0.15\n",
      "data/data/BANKING/34953092.pdf — Score: 0.13\n",
      "data/data/DESIGNER/18835363.pdf — Score: 0.13\n",
      "data/data/ENGINEERING/12011623.pdf — Score: 0.12\n",
      "data/data/TEACHER/36206485.pdf — Score: 0.11\n"
     ]
    }
   ],
   "source": [
    "# --- Rank resumes ---\n",
    "ranked_resumes = df_resumes.sort_values(by='score', ascending=False)\n",
    "print(\"\\nTop 5 resumes:\")\n",
    "for idx, row in ranked_resumes.head(5).iterrows():\n",
    "    print(f\"{row['file']} — Score: {row['score']:.2f}\")"
   ]
  },
  {
   "cell_type": "code",
   "execution_count": null,
   "id": "6f93db2b",
   "metadata": {},
   "outputs": [
    {
     "name": "stdout",
     "output_type": "stream",
     "text": [
      "\n",
      "Top 5 Teacher resumes:\n",
      "data/data/TEACHER/21773106.pdf — Teacher Score: 0.79\n",
      "data/data/AGRICULTURE/37201447.pdf — Teacher Score: 0.77\n",
      "data/data/ARTS/37220856.pdf — Teacher Score: 0.77\n",
      "data/data/AGRICULTURE/29897742.pdf — Teacher Score: 0.77\n",
      "data/data/ARTS/12386670.pdf — Teacher Score: 0.75\n"
     ]
    }
   ],
   "source": [
    "def calculate_teacher_score(resume_text):\n",
    "    # --- Skills match ---\n",
    "    skill_keywords = [\"teaching\", \"classroom management\", \"lesson planning\", \"curriculum\", \"education\", \"pedagogy\"]\n",
    "    skills_score = sum(1 for skill in skill_keywords if skill.lower() in resume_text.lower()) / len(skill_keywords)\n",
    "    \n",
    "    # --- Experience match ---\n",
    "    import re\n",
    "    years = re.findall(r'(\\d+)\\s+years?', resume_text.lower())\n",
    "    exp_score = min(sum(int(y) for y in years) / 20, 1)  # normalize to 0-1, max 20 years\n",
    "    \n",
    "    # --- Education match ---\n",
    "    edu_keywords = [\"bachelor\", \"master\", \"phd\", \"education degree\", \"teaching certification\"]\n",
    "    edu_score = sum(1 for edu in edu_keywords if edu in resume_text.lower()) / len(edu_keywords)\n",
    "    \n",
    "    # --- Weighted final score ---\n",
    "    final_score = 0.4*skills_score + 0.4*exp_score + 0.2*edu_score\n",
    "    return final_score\n",
    "\n",
    "# Apply to your resumes\n",
    "df_resumes['teacher_score'] = df_resumes['text'].apply(calculate_teacher_score)\n",
    "df_resumes = df_resumes.sort_values(by='teacher_score', ascending=False)\n",
    "\n",
    "print(\"\\nTop 5 Teacher resumes:\")\n",
    "for idx, row in df_resumes.head(5).iterrows():\n",
    "    print(f\"{row['file']} — Teacher Score: {row['teacher_score']:.2f}\")\n"
   ]
  },
  {
   "cell_type": "code",
   "execution_count": null,
   "id": "5640a72b",
   "metadata": {},
   "outputs": [],
   "source": []
  }
 ],
 "metadata": {
  "kernelspec": {
   "display_name": ".venv",
   "language": "python",
   "name": "python3"
  },
  "language_info": {
   "codemirror_mode": {
    "name": "ipython",
    "version": 3
   },
   "file_extension": ".py",
   "mimetype": "text/x-python",
   "name": "python",
   "nbconvert_exporter": "python",
   "pygments_lexer": "ipython3",
   "version": "3.10.0"
  }
 },
 "nbformat": 4,
 "nbformat_minor": 5
}
