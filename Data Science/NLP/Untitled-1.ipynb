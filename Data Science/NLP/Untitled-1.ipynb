{
 "cells": [
  {
   "cell_type": "code",
   "execution_count": 1,
   "id": "9abf8f1c",
   "metadata": {},
   "outputs": [],
   "source": [
    "import os\n",
    "import PyPDF2\n",
    "from tqdm import tqdm\n",
    "import pandas as pd\n",
    "from sklearn.feature_extraction.text import TfidfVectorizer\n",
    "from sklearn.metrics.pairwise import cosine_similarity\n",
    "from sklearn.ensemble import RandomForestRegressor\n",
    "from sklearn.model_selection import train_test_split\n",
    "from sklearn.metrics import mean_squared_error"
   ]
  },
  {
   "cell_type": "code",
   "execution_count": 2,
   "id": "0258d303",
   "metadata": {},
   "outputs": [],
   "source": [
    "# --- Extract Resume Texts ---\n",
    "RESUME_FOLDER = \"data/data\"\n"
   ]
  },
  {
   "cell_type": "code",
   "execution_count": 3,
   "id": "2c895181",
   "metadata": {},
   "outputs": [],
   "source": [
    "def extract_text_from_pdf(file_path):\n",
    "    text = \"\"\n",
    "    try:\n",
    "        with open(file_path, 'rb') as file:\n",
    "            reader = PyPDF2.PdfReader(file)\n",
    "            for page in reader.pages:\n",
    "                text += page.extract_text() or \"\"\n",
    "    except Exception as e:\n",
    "        print(f\"Error reading {file_path}: {e}\")\n",
    "    return text\n"
   ]
  },
  {
   "cell_type": "code",
   "execution_count": 4,
   "id": "ef77f66e",
   "metadata": {},
   "outputs": [
    {
     "name": "stderr",
     "output_type": "stream",
     "text": [
      "Extracting PDFs:   0%|          | 0/2484 [00:00<?, ?it/s]"
     ]
    },
    {
     "name": "stderr",
     "output_type": "stream",
     "text": [
      "Extracting PDFs: 100%|██████████| 2484/2484 [05:25<00:00,  7.62it/s]"
     ]
    },
    {
     "name": "stdout",
     "output_type": "stream",
     "text": [
      "Loaded 2483 resumes\n"
     ]
    },
    {
     "name": "stderr",
     "output_type": "stream",
     "text": [
      "\n"
     ]
    }
   ],
   "source": [
    "resume_texts = []\n",
    "resume_files = []\n",
    "\n",
    "all_files = [os.path.join(root, file)\n",
    "             for root, dirs, files in os.walk(RESUME_FOLDER)\n",
    "             for file in files if file.lower().endswith(\".pdf\")]\n",
    "\n",
    "for file_path in tqdm(all_files, desc=\"Extracting PDFs\"):\n",
    "    text = extract_text_from_pdf(file_path)\n",
    "    if text.strip():\n",
    "        resume_texts.append(text)\n",
    "        resume_files.append(file_path)\n",
    "\n",
    "df_resumes = pd.DataFrame({\"file\": resume_files, \"text\": resume_texts})\n",
    "print(f\"Loaded {len(df_resumes)} resumes\")"
   ]
  },
  {
   "cell_type": "code",
   "execution_count": 5,
   "id": "db20d221",
   "metadata": {},
   "outputs": [],
   "source": [
    "# --- Sample Job Description ---\n",
    "job_description = \"\"\"\n",
    "Looking for a Data Scientist with Python, Machine Learning,\n",
    "Deep Learning, and NLP experience.\n",
    "\"\"\""
   ]
  },
  {
   "cell_type": "code",
   "execution_count": 6,
   "id": "9f440fc0",
   "metadata": {},
   "outputs": [],
   "source": [
    "# --- TF-IDF Vectorization ---\n",
    "vectorizer = TfidfVectorizer(stop_words='english')\n",
    "all_texts = [job_description] + df_resumes['text'].tolist()\n",
    "tfidf_matrix = vectorizer.fit_transform(all_texts)\n"
   ]
  },
  {
   "cell_type": "code",
   "execution_count": 7,
   "id": "1651689b",
   "metadata": {},
   "outputs": [],
   "source": [
    "# --- Compute similarity scores ---\n",
    "similarity_scores = cosine_similarity(tfidf_matrix[0:1], tfidf_matrix[1:]).flatten()\n",
    "df_resumes['score'] = similarity_scores"
   ]
  },
  {
   "cell_type": "code",
   "execution_count": 8,
   "id": "20e4781b",
   "metadata": {},
   "outputs": [
    {
     "data": {
      "text/html": [
       "<div>\n",
       "<style scoped>\n",
       "    .dataframe tbody tr th:only-of-type {\n",
       "        vertical-align: middle;\n",
       "    }\n",
       "\n",
       "    .dataframe tbody tr th {\n",
       "        vertical-align: top;\n",
       "    }\n",
       "\n",
       "    .dataframe thead th {\n",
       "        text-align: right;\n",
       "    }\n",
       "</style>\n",
       "<table border=\"1\" class=\"dataframe\">\n",
       "  <thead>\n",
       "    <tr style=\"text-align: right;\">\n",
       "      <th></th>\n",
       "      <th>file</th>\n",
       "      <th>text</th>\n",
       "      <th>score</th>\n",
       "    </tr>\n",
       "  </thead>\n",
       "  <tbody>\n",
       "    <tr>\n",
       "      <th>0</th>\n",
       "      <td>data/data/AGRICULTURE/37201447.pdf</td>\n",
       "      <td>ADULT EDUCATION INSTRUCTOR\\nSummary\\nSeasoned ...</td>\n",
       "      <td>0.060369</td>\n",
       "    </tr>\n",
       "    <tr>\n",
       "      <th>1</th>\n",
       "      <td>data/data/AGRICULTURE/12674256.pdf</td>\n",
       "      <td>FINANCIAL SALES CONSULTANT\\nProfessional Summa...</td>\n",
       "      <td>0.000682</td>\n",
       "    </tr>\n",
       "    <tr>\n",
       "      <th>2</th>\n",
       "      <td>data/data/AGRICULTURE/29968330.pdf</td>\n",
       "      <td>EXTENSION METHODOLOGIST\\nProfile\\nSelf-motivat...</td>\n",
       "      <td>0.006205</td>\n",
       "    </tr>\n",
       "    <tr>\n",
       "      <th>3</th>\n",
       "      <td>data/data/AGRICULTURE/81042872.pdf</td>\n",
       "      <td>RESEARCH SCIENTIST\\nSummary\\nHighly motivated ...</td>\n",
       "      <td>0.064153</td>\n",
       "    </tr>\n",
       "    <tr>\n",
       "      <th>4</th>\n",
       "      <td>data/data/AGRICULTURE/20006992.pdf</td>\n",
       "      <td>FRONT DESK CLERK (FEE BASIS, JOHN D DINGELL VA...</td>\n",
       "      <td>0.013501</td>\n",
       "    </tr>\n",
       "    <tr>\n",
       "      <th>...</th>\n",
       "      <td>...</td>\n",
       "      <td>...</td>\n",
       "      <td>...</td>\n",
       "    </tr>\n",
       "    <tr>\n",
       "      <th>2478</th>\n",
       "      <td>data/data/AUTOMOBILE/11257723.pdf</td>\n",
       "      <td>GENERAL LIABILITY CLAIM REPRESENTATIVE\\nSummar...</td>\n",
       "      <td>0.001381</td>\n",
       "    </tr>\n",
       "    <tr>\n",
       "      <th>2479</th>\n",
       "      <td>data/data/AUTOMOBILE/11797122.pdf</td>\n",
       "      <td>AUTOMOBILE TRANSPORTER\\nProfessional Summary\\n...</td>\n",
       "      <td>0.004288</td>\n",
       "    </tr>\n",
       "    <tr>\n",
       "      <th>2480</th>\n",
       "      <td>data/data/AUTOMOBILE/22946204.pdf</td>\n",
       "      <td>Highlights\\nProg. Languages: \\nC (5+ yrs), Pyt...</td>\n",
       "      <td>0.090598</td>\n",
       "    </tr>\n",
       "    <tr>\n",
       "      <th>2481</th>\n",
       "      <td>data/data/AUTOMOBILE/18932512.pdf</td>\n",
       "      <td>CUSTOMER RELATIONS SPECIALIST\\nSummary\\nTo obt...</td>\n",
       "      <td>0.005227</td>\n",
       "    </tr>\n",
       "    <tr>\n",
       "      <th>2482</th>\n",
       "      <td>data/data/AUTOMOBILE/24592627.pdf</td>\n",
       "      <td>SENIOR SPECIAL INVESTIGATOR\\nSummary\\nTo work ...</td>\n",
       "      <td>0.000409</td>\n",
       "    </tr>\n",
       "  </tbody>\n",
       "</table>\n",
       "<p>2483 rows × 3 columns</p>\n",
       "</div>"
      ],
      "text/plain": [
       "                                    file  \\\n",
       "0     data/data/AGRICULTURE/37201447.pdf   \n",
       "1     data/data/AGRICULTURE/12674256.pdf   \n",
       "2     data/data/AGRICULTURE/29968330.pdf   \n",
       "3     data/data/AGRICULTURE/81042872.pdf   \n",
       "4     data/data/AGRICULTURE/20006992.pdf   \n",
       "...                                  ...   \n",
       "2478   data/data/AUTOMOBILE/11257723.pdf   \n",
       "2479   data/data/AUTOMOBILE/11797122.pdf   \n",
       "2480   data/data/AUTOMOBILE/22946204.pdf   \n",
       "2481   data/data/AUTOMOBILE/18932512.pdf   \n",
       "2482   data/data/AUTOMOBILE/24592627.pdf   \n",
       "\n",
       "                                                   text     score  \n",
       "0     ADULT EDUCATION INSTRUCTOR\\nSummary\\nSeasoned ...  0.060369  \n",
       "1     FINANCIAL SALES CONSULTANT\\nProfessional Summa...  0.000682  \n",
       "2     EXTENSION METHODOLOGIST\\nProfile\\nSelf-motivat...  0.006205  \n",
       "3     RESEARCH SCIENTIST\\nSummary\\nHighly motivated ...  0.064153  \n",
       "4     FRONT DESK CLERK (FEE BASIS, JOHN D DINGELL VA...  0.013501  \n",
       "...                                                 ...       ...  \n",
       "2478  GENERAL LIABILITY CLAIM REPRESENTATIVE\\nSummar...  0.001381  \n",
       "2479  AUTOMOBILE TRANSPORTER\\nProfessional Summary\\n...  0.004288  \n",
       "2480  Highlights\\nProg. Languages: \\nC (5+ yrs), Pyt...  0.090598  \n",
       "2481  CUSTOMER RELATIONS SPECIALIST\\nSummary\\nTo obt...  0.005227  \n",
       "2482  SENIOR SPECIAL INVESTIGATOR\\nSummary\\nTo work ...  0.000409  \n",
       "\n",
       "[2483 rows x 3 columns]"
      ]
     },
     "execution_count": 8,
     "metadata": {},
     "output_type": "execute_result"
    }
   ],
   "source": [
    "df_resumes"
   ]
  },
  {
   "cell_type": "code",
   "execution_count": 9,
   "id": "0e901786",
   "metadata": {},
   "outputs": [
    {
     "name": "stdout",
     "output_type": "stream",
     "text": [
      "Mean Squared Error: 0.0000\n"
     ]
    }
   ],
   "source": [
    "# --- Optional: Train a model to predict scores ---\n",
    "X_train, X_test, y_train, y_test = train_test_split(tfidf_matrix[1:], similarity_scores, test_size=0.2, random_state=42)\n",
    "regressor = RandomForestRegressor(n_estimators=100, random_state=42)\n",
    "regressor.fit(X_train, y_train)\n",
    "y_pred = regressor.predict(X_test)\n",
    "print(f\"Mean Squared Error: {mean_squared_error(y_test, y_pred):.4f}\")"
   ]
  },
  {
   "cell_type": "code",
   "execution_count": 10,
   "id": "a3201322",
   "metadata": {},
   "outputs": [
    {
     "name": "stdout",
     "output_type": "stream",
     "text": [
      "\n",
      "Top 5 resumes:\n",
      "data/data/ARTS/12777487.pdf — Score: 0.15\n",
      "data/data/BANKING/34953092.pdf — Score: 0.13\n",
      "data/data/DESIGNER/18835363.pdf — Score: 0.13\n",
      "data/data/ENGINEERING/12011623.pdf — Score: 0.12\n",
      "data/data/TEACHER/36206485.pdf — Score: 0.11\n"
     ]
    }
   ],
   "source": [
    "# --- Rank resumes ---\n",
    "ranked_resumes = df_resumes.sort_values(by='score', ascending=False)\n",
    "print(\"\\nTop 5 resumes:\")\n",
    "for idx, row in ranked_resumes.head(5).iterrows():\n",
    "    print(f\"{row['file']} — Score: {row['score']:.2f}\")"
   ]
  },
  {
   "cell_type": "code",
   "execution_count": 11,
   "id": "6f93db2b",
   "metadata": {},
   "outputs": [
    {
     "name": "stdout",
     "output_type": "stream",
     "text": [
      "\n",
      "Top 5 Teacher resumes:\n",
      "data/data/TEACHER/21773106.pdf — Teacher Score: 0.79\n",
      "data/data/AGRICULTURE/37201447.pdf — Teacher Score: 0.77\n",
      "data/data/ARTS/37220856.pdf — Teacher Score: 0.77\n",
      "data/data/AGRICULTURE/29897742.pdf — Teacher Score: 0.77\n",
      "data/data/ARTS/12386670.pdf — Teacher Score: 0.75\n"
     ]
    }
   ],
   "source": [
    "def calculate_teacher_score(resume_text):\n",
    "    # --- Skills match ---\n",
    "    skill_keywords = [\"teaching\", \"classroom management\", \"lesson planning\", \"curriculum\", \"education\", \"pedagogy\"]\n",
    "    skills_score = sum(1 for skill in skill_keywords if skill.lower() in resume_text.lower()) / len(skill_keywords)\n",
    "    \n",
    "    # --- Experience match ---\n",
    "    import re\n",
    "    years = re.findall(r'(\\d+)\\s+years?', resume_text.lower())\n",
    "    exp_score = min(sum(int(y) for y in years) / 20, 1)  # normalize to 0-1, max 20 years\n",
    "    \n",
    "    # --- Education match ---\n",
    "    edu_keywords = [\"bachelor\", \"master\", \"phd\", \"education degree\", \"teaching certification\"]\n",
    "    edu_score = sum(1 for edu in edu_keywords if edu in resume_text.lower()) / len(edu_keywords)\n",
    "    \n",
    "    # --- Weighted final score ---\n",
    "    final_score = 0.4*skills_score + 0.4*exp_score + 0.2*edu_score\n",
    "    return final_score\n",
    "\n",
    "# Apply to your resumes\n",
    "df_resumes['teacher_score'] = df_resumes['text'].apply(calculate_teacher_score)\n",
    "df_resumes = df_resumes.sort_values(by='teacher_score', ascending=False)\n",
    "\n",
    "print(\"\\nTop 5 Teacher resumes:\")\n",
    "for idx, row in df_resumes.head(5).iterrows():\n",
    "    print(f\"{row['file']} — Teacher Score: {row['teacher_score']:.2f}\")\n"
   ]
  },
  {
   "cell_type": "code",
   "execution_count": 2,
   "id": "5640a72b",
   "metadata": {},
   "outputs": [
    {
     "name": "stderr",
     "output_type": "stream",
     "text": [
      "/Volumes/CrucialX9/Project/venv/lib/python3.10/site-packages/transformers/tokenization_utils_base.py:1601: FutureWarning: `clean_up_tokenization_spaces` was not set. It will be set to `True` by default. This behavior will be depracted in transformers v4.45, and will be then set to `False` by default. For more details check this issue: https://github.com/huggingface/transformers/issues/31884\n",
      "  warnings.warn(\n"
     ]
    },
    {
     "name": "stdout",
     "output_type": "stream",
     "text": [
      "Resume: data/data/TEACHER/90363254.pdf\n",
      "Deep NLP Similarity Score: 0.41\n"
     ]
    }
   ],
   "source": [
    "from sentence_transformers import SentenceTransformer, util\n",
    "import PyPDF2\n",
    "\n",
    "# --- Extract text from a single PDF ---\n",
    "def extract_text_from_pdf(file_path):\n",
    "    text = \"\"\n",
    "    try:\n",
    "        with open(file_path, 'rb') as file:\n",
    "            reader = PyPDF2.PdfReader(file)\n",
    "            for page in reader.pages:\n",
    "                text += page.extract_text() or \"\"\n",
    "    except Exception as e:\n",
    "        print(f\"Error reading {file_path}: {e}\")\n",
    "    return text\n",
    "\n",
    "\n",
    "# --- Load pre-trained transformer ---\n",
    "model = SentenceTransformer(\"all-MiniLM-L6-v2\")\n",
    "\n",
    "# --- Job description + Resume ---\n",
    "resume_file = \"data/data/TEACHER/90363254.pdf\"\n",
    "resume_text = extract_text_from_pdf(resume_file)\n",
    "\n",
    "job_description = \"\"\"\n",
    "Looking for a Teacher with strong classroom management, lesson planning,\n",
    "and education background. Teaching certification is a plus.\n",
    "\"\"\"\n",
    "\n",
    "# --- Create embeddings ---\n",
    "embeddings = model.encode([job_description, resume_text], convert_to_tensor=True)\n",
    "\n",
    "# --- Cosine similarity ---\n",
    "similarity = util.cos_sim(embeddings[0], embeddings[1]).item()\n",
    "\n",
    "print(f\"Resume: {resume_file}\")\n",
    "print(f\"Deep NLP Similarity Score: {similarity:.2f}\")\n"
   ]
  },
  {
   "cell_type": "code",
   "execution_count": 6,
   "id": "66687a39",
   "metadata": {},
   "outputs": [
    {
     "name": "stdout",
     "output_type": "stream",
     "text": [
      "Top matching resumes:\n",
      "12386670.pdf — Score: 0.76\n",
      "20149476.pdf — Score: 0.68\n",
      "31273413.pdf — Score: 0.68\n",
      "11555549.pdf — Score: 0.59\n",
      "39470264.pdf — Score: 0.57\n"
     ]
    }
   ],
   "source": [
    "import os\n",
    "import PyPDF2\n",
    "from sentence_transformers import SentenceTransformer, util\n",
    "\n",
    "# --- Load model (PyTorch only) ---\n",
    "model = SentenceTransformer('all-MiniLM-L6-v2')  # small, fast, good for semantic similarity\n",
    "\n",
    "# --- Function: Extract text from a PDF ---\n",
    "def extract_text_from_pdf(pdf_path):\n",
    "    text = \"\"\n",
    "    with open(pdf_path, \"rb\") as f:\n",
    "        reader = PyPDF2.PdfReader(f)\n",
    "        for page in reader.pages:\n",
    "            text += page.extract_text() or \"\"\n",
    "    return text\n",
    "\n",
    "# --- Job description (your target text) ---\n",
    "job_description = \"\"\"\n",
    "We are seeking a passionate and creative Arts Teacher to inspire students through visual and performing arts. \n",
    "The ideal candidate will have strong skills in painting, drawing, sculpture, or digital media, along with experience \n",
    "in art history and contemporary practices. Responsibilities include developing engaging lesson plans, encouraging \n",
    "creative expression, and helping students build technical and conceptual skills. Strong classroom management, \n",
    "curriculum planning, and the ability to foster an inclusive and motivating environment are essential.\n",
    "\n",
    "\"\"\"\n",
    "\n",
    "# --- Encode job description once ---\n",
    "job_embedding = model.encode(job_description, convert_to_tensor=True)\n",
    "\n",
    "# --- Folder containing resumes ---\n",
    "resume_folder = \"data/data/ARTS\"   # change to your folder path\n",
    "\n",
    "# --- Loop through all PDFs in the folder ---\n",
    "results = []\n",
    "for file_name in os.listdir(resume_folder):\n",
    "    if file_name.endswith(\".pdf\"):\n",
    "        pdf_path = os.path.join(resume_folder, file_name)\n",
    "        resume_text = extract_text_from_pdf(pdf_path)\n",
    "\n",
    "        # Encode resume text\n",
    "        resume_embedding = model.encode(resume_text, convert_to_tensor=True)\n",
    "\n",
    "        # Compute cosine similarity\n",
    "        score = util.pytorch_cos_sim(job_embedding, resume_embedding).item()\n",
    "\n",
    "        results.append((file_name, score))\n",
    "\n",
    "# --- Sort results by score (highest first) ---\n",
    "results.sort(key=lambda x: x[1], reverse=True)\n",
    "\n",
    "# --- Print top matches ---\n",
    "print(\"Top matching resumes:\")\n",
    "for file_name, score in results[:5]:\n",
    "    print(f\"{file_name} — Score: {score:.2f}\")\n"
   ]
  },
  {
   "cell_type": "code",
   "execution_count": 6,
   "id": "c2b72166",
   "metadata": {},
   "outputs": [
    {
     "name": "stdout",
     "output_type": "stream",
     "text": [
      "Found existing installation: tensorflow 2.19.1\n",
      "Uninstalling tensorflow-2.19.1:\n",
      "  Successfully uninstalled tensorflow-2.19.1\n",
      "Found existing installation: tensorflow-macos 2.16.2\n",
      "Uninstalling tensorflow-macos-2.16.2:\n",
      "  Successfully uninstalled tensorflow-macos-2.16.2\n",
      "Found existing installation: tensorflow-metal 1.1.0\n",
      "Uninstalling tensorflow-metal-1.1.0:\n",
      "  Successfully uninstalled tensorflow-metal-1.1.0\n"
     ]
    }
   ],
   "source": [
    "!pip uninstall tensorflow tensorflow-macos tensorflow-metal -y\n"
   ]
  },
  {
   "cell_type": "code",
   "execution_count": 7,
   "id": "7bf9d54b",
   "metadata": {},
   "outputs": [
    {
     "name": "stdout",
     "output_type": "stream",
     "text": [
      "Requirement already satisfied: torch in /Volumes/CrucialX9/Project/venv/lib/python3.10/site-packages (2.2.0)\n",
      "Requirement already satisfied: torchvision in /Volumes/CrucialX9/Project/venv/lib/python3.10/site-packages (0.17.0)\n",
      "Requirement already satisfied: torchaudio in /Volumes/CrucialX9/Project/venv/lib/python3.10/site-packages (2.2.0)\n",
      "Requirement already satisfied: filelock in /Volumes/CrucialX9/Project/venv/lib/python3.10/site-packages (from torch) (3.19.1)\n",
      "Requirement already satisfied: typing-extensions>=4.8.0 in /Volumes/CrucialX9/Project/venv/lib/python3.10/site-packages (from torch) (4.14.1)\n",
      "Requirement already satisfied: sympy in /Volumes/CrucialX9/Project/venv/lib/python3.10/site-packages (from torch) (1.14.0)\n",
      "Requirement already satisfied: networkx in /Volumes/CrucialX9/Project/venv/lib/python3.10/site-packages (from torch) (3.4.2)\n",
      "Requirement already satisfied: jinja2 in /Volumes/CrucialX9/Project/venv/lib/python3.10/site-packages (from torch) (3.1.6)\n",
      "Requirement already satisfied: fsspec in /Volumes/CrucialX9/Project/venv/lib/python3.10/site-packages (from torch) (2025.7.0)\n",
      "Requirement already satisfied: numpy in /Volumes/CrucialX9/Project/venv/lib/python3.10/site-packages (from torchvision) (1.26.4)\n",
      "Requirement already satisfied: requests in /Volumes/CrucialX9/Project/venv/lib/python3.10/site-packages (from torchvision) (2.32.4)\n",
      "Requirement already satisfied: pillow!=8.3.*,>=5.3.0 in /Volumes/CrucialX9/Project/venv/lib/python3.10/site-packages (from torchvision) (11.3.0)\n",
      "Requirement already satisfied: MarkupSafe>=2.0 in /Volumes/CrucialX9/Project/venv/lib/python3.10/site-packages (from jinja2->torch) (3.0.2)\n",
      "Requirement already satisfied: charset_normalizer<4,>=2 in /Volumes/CrucialX9/Project/venv/lib/python3.10/site-packages (from requests->torchvision) (3.4.3)\n",
      "Requirement already satisfied: idna<4,>=2.5 in /Volumes/CrucialX9/Project/venv/lib/python3.10/site-packages (from requests->torchvision) (3.10)\n",
      "Requirement already satisfied: urllib3<3,>=1.21.1 in /Volumes/CrucialX9/Project/venv/lib/python3.10/site-packages (from requests->torchvision) (2.5.0)\n",
      "Requirement already satisfied: certifi>=2017.4.17 in /Volumes/CrucialX9/Project/venv/lib/python3.10/site-packages (from requests->torchvision) (2025.8.3)\n",
      "Requirement already satisfied: mpmath<1.4,>=1.1.0 in /Volumes/CrucialX9/Project/venv/lib/python3.10/site-packages (from sympy->torch) (1.3.0)\n",
      "Note: you may need to restart the kernel to use updated packages.\n"
     ]
    }
   ],
   "source": [
    "pip install torch torchvision torchaudio\n"
   ]
  },
  {
   "cell_type": "code",
   "execution_count": null,
   "id": "7a78a8b6",
   "metadata": {},
   "outputs": [],
   "source": []
  }
 ],
 "metadata": {
  "kernelspec": {
   "display_name": "venv",
   "language": "python",
   "name": "python3"
  },
  "language_info": {
   "codemirror_mode": {
    "name": "ipython",
    "version": 3
   },
   "file_extension": ".py",
   "mimetype": "text/x-python",
   "name": "python",
   "nbconvert_exporter": "python",
   "pygments_lexer": "ipython3",
   "version": "3.10.0"
  }
 },
 "nbformat": 4,
 "nbformat_minor": 5
}
