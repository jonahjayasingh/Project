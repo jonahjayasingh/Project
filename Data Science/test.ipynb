{
 "cells": [
  {
   "cell_type": "code",
   "execution_count": 1,
   "id": "126a3ff8",
   "metadata": {},
   "outputs": [],
   "source": [
    "import tensorflow as tf\n",
    "from tensorflow.keras.models import load_model\n",
    "from tensorflow.keras.applications.mobilenet_v3 import preprocess_input\n",
    "import numpy as np\n",
    "from tensorflow.keras.preprocessing import image\n",
    "import os\n"
   ]
  },
  {
   "cell_type": "code",
   "execution_count": 13,
   "id": "232502d6",
   "metadata": {},
   "outputs": [
    {
     "name": "stdout",
     "output_type": "stream",
     "text": [
      "✅ Model loaded successfully\n"
     ]
    }
   ],
   "source": [
    "from tensorflow.keras.models import load_model\n",
    "\n",
    "model = load_model(r\"D:\\balanced_dataset\\tf_model_1.keras\")\n",
    "print(\"✅ Model loaded successfully\")\n"
   ]
  },
  {
   "cell_type": "code",
   "execution_count": 14,
   "id": "826ba3d9",
   "metadata": {},
   "outputs": [],
   "source": [
    "\n",
    "# ============================\n",
    "# 2. Load & preprocess an image\n",
    "# ============================\n",
    "def load_and_preprocess(img_path, target_size=(128,128)):\n",
    "    img = image.load_img(img_path, target_size=target_size)\n",
    "    x = image.img_to_array(img)          # Convert to array\n",
    "    x = np.expand_dims(x, axis=0)        # Add batch dimension\n",
    "    x = preprocess_input(x)              # Apply MobileNetV3 preprocessing\n",
    "    return x\n"
   ]
  },
  {
   "cell_type": "code",
   "execution_count": 15,
   "id": "28039334",
   "metadata": {},
   "outputs": [],
   "source": [
    "\n",
    "# Example image path\n",
    "img_path = \"D:/balanced_dataset/data/Actinic Keratosis Basal Cell Carcinoma And Other Malignant Lesions/actinic-cheilitis-sq-cell-lip-2.jpg\"  # replace with your image\n",
    "x = load_and_preprocess(img_path)\n"
   ]
  },
  {
   "cell_type": "code",
   "execution_count": 16,
   "id": "bca87ac3",
   "metadata": {},
   "outputs": [
    {
     "name": "stdout",
     "output_type": "stream",
     "text": [
      "\u001b[1m1/1\u001b[0m \u001b[32m━━━━━━━━━━━━━━━━━━━━\u001b[0m\u001b[37m\u001b[0m \u001b[1m2s\u001b[0m 2s/step\n",
      "Predicted class: Actinic Keratosis Basal Cell Carcinoma And Other Malignant Lesions\n",
      "Confidence: 0.4381\n"
     ]
    }
   ],
   "source": [
    "\n",
    "# ============================\n",
    "# 3. Predict\n",
    "# ============================\n",
    "preds = model.predict(x)\n",
    "pred_class_idx = np.argmax(preds, axis=1)[0]\n",
    "pred_class_prob = preds[0][pred_class_idx]\n",
    "\n",
    "# ============================\n",
    "# 4. Map to class name\n",
    "# ============================\n",
    "class_names = sorted(os.listdir(\"data\"))  # same order as training\n",
    "pred_class_name = class_names[pred_class_idx]\n",
    "\n",
    "print(f\"Predicted class: {pred_class_name}\")\n",
    "print(f\"Confidence: {pred_class_prob:.4f}\")\n"
   ]
  },
  {
   "cell_type": "code",
   "execution_count": null,
   "id": "9ccf8a6d",
   "metadata": {},
   "outputs": [],
   "source": []
  },
  {
   "cell_type": "code",
   "execution_count": null,
   "id": "5f36ce1e",
   "metadata": {},
   "outputs": [],
   "source": []
  }
 ],
 "metadata": {
  "kernelspec": {
   "display_name": "base",
   "language": "python",
   "name": "python3"
  },
  "language_info": {
   "codemirror_mode": {
    "name": "ipython",
    "version": 3
   },
   "file_extension": ".py",
   "mimetype": "text/x-python",
   "name": "python",
   "nbconvert_exporter": "python",
   "pygments_lexer": "ipython3",
   "version": "3.13.5"
  }
 },
 "nbformat": 4,
 "nbformat_minor": 5
}
